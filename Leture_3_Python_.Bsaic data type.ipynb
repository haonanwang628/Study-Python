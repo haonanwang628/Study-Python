{
 "cells": [
  {
   "cell_type": "markdown",
   "id": "9a8c9bbd-d267-4c8a-8fd9-d11027b5f7e4",
   "metadata": {},
   "source": [
    "* <big><big><big><big><big><big><big>**基本数据类型**"
   ]
  },
  {
   "cell_type": "markdown",
   "id": "b66217ee-5414-4d87-87ca-e7fcd0d38cc9",
   "metadata": {},
   "source": [
    " ![jupyter](./Python的基本数据类型.png)"
   ]
  },
  {
   "cell_type": "markdown",
   "id": "8b8e7723-373a-47c7-a5c5-d7939e0ce87c",
   "metadata": {},
   "source": [
    "# 第一部分 数字类型"
   ]
  },
  {
   "cell_type": "markdown",
   "id": "827ca53e-8fda-4066-b04f-55f7e3820213",
   "metadata": {
    "tags": []
   },
   "source": [
    " ![jupyter](./数字类型.png)"
   ]
  },
  {
   "cell_type": "markdown",
   "id": "51c23276-8001-4cd8-98c6-65f113204e40",
   "metadata": {},
   "source": [
    "## 数字类型的组成"
   ]
  },
  {
   "cell_type": "code",
   "execution_count": null,
   "id": "60c5c360-76b8-4f8d-a72e-94085b261526",
   "metadata": {},
   "outputs": [],
   "source": [
    " ![jupyter](./jupyter_logo.png)"
   ]
  },
  {
   "cell_type": "markdown",
   "id": "271f4129-6a97-4976-94da-93a33d17084e",
   "metadata": {},
   "source": [
    "### 整数——————不同进制的转换"
   ]
  },
  {
   "cell_type": "markdown",
   "id": "ed04a61d-3567-4def-9471-bf75d420f084",
   "metadata": {},
   "source": [
    "* 默认输入十进制\n",
    "* 二进制0b、八进制0o、十六进制0x"
   ]
  },
  {
   "cell_type": "code",
   "execution_count": 1,
   "id": "e2da2530-21c6-42c8-af6f-f5000a0d22d8",
   "metadata": {
    "tags": []
   },
   "outputs": [
    {
     "data": {
      "text/plain": [
       "True"
      ]
     },
     "execution_count": 1,
     "metadata": {},
     "output_type": "execute_result"
    }
   ],
   "source": [
    "16 == 0b10000 == 0o20 == 0x10"
   ]
  },
  {
   "cell_type": "markdown",
   "id": "aa7ec687-b84b-481e-bd4d-1d0b5b75efe1",
   "metadata": {},
   "source": [
    "* 十进制与其他进制的转换"
   ]
  },
  {
   "cell_type": "code",
   "execution_count": 2,
   "id": "b40c1f71-80d5-4567-a437-33f3c638fa72",
   "metadata": {
    "tags": []
   },
   "outputs": [
    {
     "name": "stdout",
     "output_type": "stream",
     "text": [
      "0b10000 0o20 0x10\n"
     ]
    }
   ],
   "source": [
    "a = bin(16)  #转二进制\n",
    "b = oct(16)  #转八进制\n",
    "c = hex(16)  #转十六进制\n",
    "print(a,b,c)"
   ]
  },
  {
   "cell_type": "markdown",
   "id": "c627d41a-d69e-4b55-b272-76680ea6a834",
   "metadata": {
    "tags": []
   },
   "source": [
    "<big>**注意:上述转换后的结果为字符串类型**"
   ]
  },
  {
   "cell_type": "code",
   "execution_count": 3,
   "id": "7412747a-168a-4c75-bd12-51752c96500e",
   "metadata": {
    "tags": []
   },
   "outputs": [
    {
     "data": {
      "text/plain": [
       "False"
      ]
     },
     "execution_count": 3,
     "metadata": {},
     "output_type": "execute_result"
    }
   ],
   "source": [
    "a == b == c"
   ]
  },
  {
   "cell_type": "code",
   "execution_count": 4,
   "id": "9f5b49a8-e54d-4c6b-bdb7-263504bca0e9",
   "metadata": {
    "tags": []
   },
   "outputs": [
    {
     "data": {
      "text/plain": [
       "str"
      ]
     },
     "execution_count": 4,
     "metadata": {},
     "output_type": "execute_result"
    }
   ],
   "source": [
    "type(a)"
   ]
  },
  {
   "cell_type": "markdown",
   "id": "0806b531-c392-4305-ab61-bd3459eeb68a",
   "metadata": {},
   "source": [
    "* 其他进制转十进制"
   ]
  },
  {
   "cell_type": "code",
   "execution_count": 6,
   "id": "31d3c07c-f538-49eb-bdcc-bf422a426c5c",
   "metadata": {},
   "outputs": [
    {
     "name": "stdout",
     "output_type": "stream",
     "text": [
      "16 16 16\n"
     ]
    }
   ],
   "source": [
    "d = int(a,2)    #二进制转十进制\n",
    "e = int(b,8)   #八进制转十进制\n",
    "f = int(c,16)   #十六进制转十进制\n",
    "print(d,e,f)"
   ]
  },
  {
   "cell_type": "markdown",
   "id": "49767484-9582-47c0-8f67-6e8b6f22db55",
   "metadata": {},
   "source": [
    "### 浮点数——不确定性"
   ]
  },
  {
   "cell_type": "markdown",
   "id": "ff15fc2e-a779-4305-a6db-dd95789077e4",
   "metadata": {},
   "source": [
    "* 不确定小数问题"
   ]
  },
  {
   "cell_type": "code",
   "execution_count": 7,
   "id": "d8179d46-f202-4b00-ac66-44684f71714a",
   "metadata": {
    "tags": []
   },
   "outputs": [
    {
     "data": {
      "text/plain": [
       "False"
      ]
     },
     "execution_count": 7,
     "metadata": {},
     "output_type": "execute_result"
    }
   ],
   "source": [
    "(0.1 + 0.2) == 0.3"
   ]
  },
  {
   "cell_type": "code",
   "execution_count": 8,
   "id": "9266d9fe-589a-439d-8db3-47fba707288d",
   "metadata": {
    "tags": []
   },
   "outputs": [
    {
     "data": {
      "text/plain": [
       "0.30000000000000004"
      ]
     },
     "execution_count": 8,
     "metadata": {},
     "output_type": "execute_result"
    }
   ],
   "source": [
    "0.1 + 0.2"
   ]
  },
  {
   "cell_type": "markdown",
   "id": "600d06bd-9eb1-410d-b3f6-6e39234e2680",
   "metadata": {},
   "source": [
    "* 计算机采用二进制小数来表示浮点数的小数部分,部分小数不能用二进制小数完全表示，但是不影响我们的计算结果"
   ]
  },
  {
   "cell_type": "code",
   "execution_count": 9,
   "id": "9d85885c-1028-437a-97ca-1413fbc44fbe",
   "metadata": {
    "tags": []
   },
   "outputs": [
    {
     "data": {
      "text/plain": [
       "0.7999999999999999"
      ]
     },
     "execution_count": 9,
     "metadata": {},
     "output_type": "execute_result"
    }
   ],
   "source": [
    "0.1 + 0.7"
   ]
  },
  {
   "cell_type": "markdown",
   "id": "f9292942-ace2-44c9-b408-fce6872cb961",
   "metadata": {},
   "source": [
    "* 四舍五入 round(变量，保留的小数位数)"
   ]
  },
  {
   "cell_type": "code",
   "execution_count": 10,
   "id": "9cd3f813-15c1-47ad-88bc-57ccdc79ee79",
   "metadata": {
    "tags": []
   },
   "outputs": [
    {
     "name": "stdout",
     "output_type": "stream",
     "text": [
      "0.30000000000000004\n"
     ]
    }
   ],
   "source": [
    "a = 3*0.1\n",
    "print(a)"
   ]
  },
  {
   "cell_type": "code",
   "execution_count": 12,
   "id": "fed44c82-c32c-4bb7-bd7f-a7c08d0dd2ee",
   "metadata": {
    "tags": []
   },
   "outputs": [
    {
     "name": "stdout",
     "output_type": "stream",
     "text": [
      "0.3\n"
     ]
    },
    {
     "data": {
      "text/plain": [
       "True"
      ]
     },
     "execution_count": 12,
     "metadata": {},
     "output_type": "execute_result"
    }
   ],
   "source": [
    "b = round(a,1)  \n",
    "print(b)\n",
    "b == 0.3"
   ]
  },
  {
   "cell_type": "markdown",
   "id": "2f7469ba-7dc6-43c9-9d47-dadb4dbf5c39",
   "metadata": {},
   "source": [
    "###  复数——a+bj"
   ]
  },
  {
   "cell_type": "markdown",
   "id": "4ac9f9a6-f53d-45c6-acf9-86f463a6065c",
   "metadata": {
    "tags": []
   },
   "source": [
    "* 大写J或小写j均可"
   ]
  },
  {
   "cell_type": "code",
   "execution_count": 14,
   "id": "d9a53418-df59-4d20-be8a-d43415c78e16",
   "metadata": {
    "tags": []
   },
   "outputs": [
    {
     "data": {
      "text/plain": [
       "(2+5j)"
      ]
     },
     "execution_count": 14,
     "metadata": {},
     "output_type": "execute_result"
    }
   ],
   "source": [
    "3 + 4j\n",
    "2 + 5J\n"
   ]
  },
  {
   "cell_type": "markdown",
   "id": "563f7c06-b213-4b79-82fd-89a5411d0533",
   "metadata": {},
   "source": [
    "* 虚部系数为1时，需要显式写出"
   ]
  },
  {
   "cell_type": "code",
   "execution_count": 15,
   "id": "56707da2-ddb5-4029-ab60-4a6fa5f8fdc6",
   "metadata": {
    "tags": []
   },
   "outputs": [
    {
     "data": {
      "text/plain": [
       "(2+1j)"
      ]
     },
     "execution_count": 15,
     "metadata": {},
     "output_type": "execute_result"
    }
   ],
   "source": [
    "2 + 1j"
   ]
  },
  {
   "cell_type": "markdown",
   "id": "97b9839a-e5a5-4747-bde1-09e0a6302fc1",
   "metadata": {},
   "source": [
    "## 数字运算操作符（a操作符b）"
   ]
  },
  {
   "cell_type": "markdown",
   "id": "522b7cef-e8f3-4ebc-9f14-eb9378207957",
   "metadata": {},
   "source": [
    "* 加减乘除运算 + - / *"
   ]
  },
  {
   "cell_type": "code",
   "execution_count": 16,
   "id": "94e38c44-ee9b-4fb8-b35b-5998f4e01627",
   "metadata": {
    "tags": []
   },
   "outputs": [
    {
     "data": {
      "text/plain": [
       "-0.8"
      ]
     },
     "execution_count": 16,
     "metadata": {},
     "output_type": "execute_result"
    }
   ],
   "source": [
    "(1+3-4*2)/5"
   ]
  },
  {
   "cell_type": "markdown",
   "id": "bef50944-d8c9-428e-b378-6d09607b8d26",
   "metadata": {},
   "source": [
    "* 取反 -"
   ]
  },
  {
   "cell_type": "code",
   "execution_count": 17,
   "id": "22928f39-c715-4f85-b993-edbe485e09d2",
   "metadata": {
    "tags": []
   },
   "outputs": [
    {
     "data": {
      "text/plain": [
       "-1"
      ]
     },
     "execution_count": 17,
     "metadata": {},
     "output_type": "execute_result"
    }
   ],
   "source": [
    "x = 1\n",
    "-x"
   ]
  },
  {
   "cell_type": "markdown",
   "id": "8b8f70ad-c97c-4833-a5f8-ebae6bade626",
   "metadata": {},
   "source": [
    "* 乘方运算 **"
   ]
  },
  {
   "cell_type": "code",
   "execution_count": 18,
   "id": "d7d4b489-704b-44b0-a415-4aa008f7baeb",
   "metadata": {
    "tags": []
   },
   "outputs": [
    {
     "data": {
      "text/plain": [
       "8"
      ]
     },
     "execution_count": 18,
     "metadata": {},
     "output_type": "execute_result"
    }
   ],
   "source": [
    "2 **3"
   ]
  },
  {
   "cell_type": "markdown",
   "id": "6da05085-8f08-42e9-9298-d0d194940c0b",
   "metadata": {},
   "source": [
    "* 整数商 //（x/y 向下取整数） 和 模预算 % （余数）"
   ]
  },
  {
   "cell_type": "code",
   "execution_count": 19,
   "id": "f203ffe6-6e3d-47a6-92c4-473fdb9f4702",
   "metadata": {
    "tags": []
   },
   "outputs": [
    {
     "data": {
      "text/plain": [
       "2"
      ]
     },
     "execution_count": 19,
     "metadata": {},
     "output_type": "execute_result"
    }
   ],
   "source": [
    "13 // 5 #整数商"
   ]
  },
  {
   "cell_type": "code",
   "execution_count": 20,
   "id": "8d57cd24-7c58-4546-8ea8-40dcf4480a58",
   "metadata": {
    "tags": []
   },
   "outputs": [
    {
     "data": {
      "text/plain": [
       "3"
      ]
     },
     "execution_count": 20,
     "metadata": {},
     "output_type": "execute_result"
    }
   ],
   "source": [
    "13 % 5 # 模运算"
   ]
  },
  {
   "cell_type": "markdown",
   "id": "8985b9a9-d28c-4786-82a1-4764185b104b",
   "metadata": {},
   "source": [
    "* **几点说明**"
   ]
  },
  {
   "cell_type": "markdown",
   "id": "6d282fde-7ddd-4756-b364-1dfae812da11",
   "metadata": {
    "tags": []
   },
   "source": [
    "* 整数与浮点数预算结果是浮点数\n",
    "* 除法运算的结果是浮点数"
   ]
  },
  {
   "cell_type": "code",
   "execution_count": 22,
   "id": "a8de6e4c-6f8c-4af7-b6a5-cc1baee2c2d1",
   "metadata": {
    "tags": []
   },
   "outputs": [
    {
     "data": {
      "text/plain": [
       "2.5"
      ]
     },
     "execution_count": 22,
     "metadata": {},
     "output_type": "execute_result"
    }
   ],
   "source": [
    "1 + 1.5"
   ]
  },
  {
   "cell_type": "code",
   "execution_count": 23,
   "id": "b6e34eaa-6915-4caa-84a0-16c652e42aff",
   "metadata": {
    "tags": []
   },
   "outputs": [
    {
     "data": {
      "text/plain": [
       "0.4"
      ]
     },
     "execution_count": 23,
     "metadata": {},
     "output_type": "execute_result"
    }
   ],
   "source": [
    "2/5"
   ]
  },
  {
   "cell_type": "code",
   "execution_count": 24,
   "id": "46e87d27-17e1-443c-819b-579574603789",
   "metadata": {
    "tags": []
   },
   "outputs": [
    {
     "data": {
      "text/plain": [
       "2.0"
      ]
     },
     "execution_count": 24,
     "metadata": {},
     "output_type": "execute_result"
    }
   ],
   "source": [
    "8/4"
   ]
  },
  {
   "cell_type": "markdown",
   "id": "8db5f6d6-4290-425a-a490-e58b53937f46",
   "metadata": {},
   "source": [
    "## 数字运算操作函数 function（x,...）"
   ]
  },
  {
   "cell_type": "markdown",
   "id": "c13df619-5eee-4c67-a269-d7cdc73fced9",
   "metadata": {},
   "source": [
    "* 求绝对值 abs()"
   ]
  },
  {
   "cell_type": "code",
   "execution_count": 25,
   "id": "662a378b-caf5-4e3e-b8fd-9ce1f33a0d03",
   "metadata": {
    "tags": []
   },
   "outputs": [
    {
     "data": {
      "text/plain": [
       "5"
      ]
     },
     "execution_count": 25,
     "metadata": {},
     "output_type": "execute_result"
    }
   ],
   "source": [
    "abs (-5)"
   ]
  },
  {
   "cell_type": "markdown",
   "id": "f4070a3f-195d-409b-8d3f-775ec0fdfe23",
   "metadata": {},
   "source": [
    "* 幂次方pow（x,n）"
   ]
  },
  {
   "cell_type": "code",
   "execution_count": 26,
   "id": "8c66f490-e8fa-4e28-95de-c5e8c076ba7e",
   "metadata": {
    "tags": []
   },
   "outputs": [
    {
     "data": {
      "text/plain": [
       "32"
      ]
     },
     "execution_count": 26,
     "metadata": {},
     "output_type": "execute_result"
    }
   ],
   "source": [
    "pow(2,5) #pow(x,n) x的n次方"
   ]
  },
  {
   "cell_type": "code",
   "execution_count": 27,
   "id": "4d57a1c9-bb4b-4a2d-834e-5818ad8e0536",
   "metadata": {
    "tags": []
   },
   "outputs": [
    {
     "data": {
      "text/plain": [
       "2"
      ]
     },
     "execution_count": 27,
     "metadata": {},
     "output_type": "execute_result"
    }
   ],
   "source": [
    "pow(2,5,3) #求2的5次方求余数"
   ]
  },
  {
   "cell_type": "markdown",
   "id": "d4543620-3edd-41f8-86fa-f4b7c98e642a",
   "metadata": {},
   "source": [
    "* 四舍五入函数 round(x,n) x的n的几位余数？"
   ]
  },
  {
   "cell_type": "code",
   "execution_count": 28,
   "id": "a8b3dd9e-1d07-4008-972c-088a86ca4600",
   "metadata": {
    "tags": []
   },
   "outputs": [
    {
     "name": "stdout",
     "output_type": "stream",
     "text": [
      "1\n"
     ]
    }
   ],
   "source": [
    "a = 1.1618\n",
    "print(round(a))"
   ]
  },
  {
   "cell_type": "code",
   "execution_count": 29,
   "id": "9938c1e0-6289-42bf-a95b-e5bbcf196d2f",
   "metadata": {
    "tags": []
   },
   "outputs": [
    {
     "name": "stdout",
     "output_type": "stream",
     "text": [
      "1.16\n"
     ]
    }
   ],
   "source": [
    "print(round(a,2))"
   ]
  },
  {
   "cell_type": "markdown",
   "id": "f33dd770-36ad-40ce-9819-2aa49649912a",
   "metadata": {},
   "source": [
    "* 整数商和模运算 divmod(x,y)\n",
    "* 等价于返回二元元组（x//y,x%5）"
   ]
  },
  {
   "cell_type": "code",
   "execution_count": 30,
   "id": "28acf65f-a3e9-4154-aad1-c672f4faea26",
   "metadata": {
    "tags": []
   },
   "outputs": [
    {
     "data": {
      "text/plain": [
       "(2, 3)"
      ]
     },
     "execution_count": 30,
     "metadata": {},
     "output_type": "execute_result"
    }
   ],
   "source": [
    "divmod(13,5)"
   ]
  },
  {
   "cell_type": "markdown",
   "id": "926b02c4-3e2c-4ca2-b7eb-7ddffac4001e",
   "metadata": {},
   "source": [
    "* 序列最大/最小值 max() min()"
   ]
  },
  {
   "cell_type": "code",
   "execution_count": 31,
   "id": "070f1c36-781c-4f7c-a982-ba41527268ee",
   "metadata": {
    "tags": []
   },
   "outputs": [
    {
     "data": {
      "text/plain": [
       "33"
      ]
     },
     "execution_count": 31,
     "metadata": {},
     "output_type": "execute_result"
    }
   ],
   "source": [
    "max(3,2,33,22,33)"
   ]
  },
  {
   "cell_type": "code",
   "execution_count": 32,
   "id": "703014a2-696a-42f6-bd89-f72809efa456",
   "metadata": {
    "tags": []
   },
   "outputs": [
    {
     "name": "stdout",
     "output_type": "stream",
     "text": [
      "max: 9\n",
      "min: 2\n"
     ]
    }
   ],
   "source": [
    "a = [3,2,3,6,9,4,5]\n",
    "print(\"max:\",max(a))\n",
    "print(\"min:\",min(a))"
   ]
  },
  {
   "cell_type": "markdown",
   "id": "c2138926-99cc-419d-8171-d5b5525621db",
   "metadata": {},
   "source": [
    "* 求和sum(x)"
   ]
  },
  {
   "cell_type": "code",
   "execution_count": 34,
   "id": "cfe38432-8a3f-4af1-80b1-6f2213994d79",
   "metadata": {
    "tags": []
   },
   "outputs": [
    {
     "data": {
      "text/plain": [
       "15"
      ]
     },
     "execution_count": 34,
     "metadata": {},
     "output_type": "execute_result"
    }
   ],
   "source": [
    "sum((1,2,3,4,5)) #两个括号"
   ]
  },
  {
   "cell_type": "markdown",
   "id": "830283e5-9475-4cb3-8086-8db384ba2ddf",
   "metadata": {},
   "source": [
    "* 科学计算库 math\\scipy\\numpy"
   ]
  },
  {
   "cell_type": "code",
   "execution_count": 35,
   "id": "81492b64-dc92-4296-b508-c927475d9b5d",
   "metadata": {
    "tags": []
   },
   "outputs": [
    {
     "name": "stdout",
     "output_type": "stream",
     "text": [
      "2.718281828459045\n",
      "1.0\n",
      "2.0\n"
     ]
    }
   ],
   "source": [
    "import math #导入库\n",
    "print(math.exp(1)) #指数运算\n",
    "print(math.log2(2)) #对数运算\n",
    "print(math.sqrt(4)) #开平方运算"
   ]
  },
  {
   "cell_type": "code",
   "execution_count": 37,
   "id": "6779dd4e-ea0a-4a86-921a-80d59ffde97d",
   "metadata": {
    "tags": []
   },
   "outputs": [
    {
     "name": "stdout",
     "output_type": "stream",
     "text": [
      "3.0\n",
      "3.0\n",
      "1.4142135623730951\n"
     ]
    }
   ],
   "source": [
    "import numpy as np\n",
    "a = [1,2,3,4,5]\n",
    "print(np.mean(a))  #求平均值\n",
    "print(np.median(a)) #求中位数\n",
    "print(np.std(a))  #求标准差"
   ]
  },
  {
   "cell_type": "markdown",
   "id": "b51f3b96-8b83-4c34-a939-bf056773425f",
   "metadata": {},
   "source": [
    " # 第二部分 字符串类型"
   ]
  },
  {
   "cell_type": "markdown",
   "id": "520803af-226c-42f6-afa2-143640d6b84d",
   "metadata": {},
   "source": [
    "![jupyter](./字符串类型.png)"
   ]
  },
  {
   "cell_type": "markdown",
   "id": "c6593cf4-f9d5-4d56-9075-b664e3e92818",
   "metadata": {},
   "source": [
    "## 字符串表达"
   ]
  },
  {
   "cell_type": "markdown",
   "id": "3d45fb48-99af-423d-b994-047de38220e8",
   "metadata": {},
   "source": [
    "* 用“或”括起来的任意字符"
   ]
  },
  {
   "cell_type": "code",
   "execution_count": 38,
   "id": "b549009a-9abd-4e1e-baca-0738014c3df5",
   "metadata": {
    "tags": []
   },
   "outputs": [
    {
     "name": "stdout",
     "output_type": "stream",
     "text": [
      "Pythton\n",
      "Python\n"
     ]
    }
   ],
   "source": [
    "print(\"Pythton\")\n",
    "print('Python')"
   ]
  },
  {
   "cell_type": "markdown",
   "id": "96530898-39f2-4a85-adb3-e1ecc587c3ac",
   "metadata": {},
   "source": [
    "* 双中有单，假如说你的字符串里边有单引号怎么办呢？"
   ]
  },
  {
   "cell_type": "code",
   "execution_count": 39,
   "id": "d9b2873d-796e-4832-b55a-63fc3d6f5299",
   "metadata": {
    "tags": []
   },
   "outputs": [
    {
     "name": "stdout",
     "output_type": "stream",
     "text": [
      "I'm 23 years old\n"
     ]
    }
   ],
   "source": [
    "print(\"I'm 23 years old\")"
   ]
  },
  {
   "cell_type": "markdown",
   "id": "09abbaa9-950a-425c-ae9c-744e4c369cc4",
   "metadata": {},
   "source": [
    "* 单中有双"
   ]
  },
  {
   "cell_type": "code",
   "execution_count": 40,
   "id": "c15bfe93-3027-4045-a112-8cd05c9bf854",
   "metadata": {
    "tags": []
   },
   "outputs": [
    {
     "name": "stdout",
     "output_type": "stream",
     "text": [
      "\"Python\" is good\n"
     ]
    }
   ],
   "source": [
    "print('\"Python\" is good')"
   ]
  },
  {
   "cell_type": "markdown",
   "id": "9eb0147f-93fb-403d-9206-f66c06d9394b",
   "metadata": {},
   "source": [
    "* 双中有双，单中有单—— 转义符/ "
   ]
  },
  {
   "cell_type": "code",
   "execution_count": 42,
   "id": "6b343e86-f025-45a3-8c77-a3439f5393ed",
   "metadata": {
    "tags": []
   },
   "outputs": [
    {
     "name": "stdout",
     "output_type": "stream",
     "text": [
      "\"Python\" is good\n"
     ]
    }
   ],
   "source": [
    "# print(\"Python\" is good)\n",
    "print(\"\\\"Python\\\" is good\")  # \\我是个字符呀"
   ]
  },
  {
   "cell_type": "markdown",
   "id": "5a7bb517-96f6-4715-8678-15d780f36b36",
   "metadata": {},
   "source": [
    "* 转义符可以用来换行继续输入"
   ]
  },
  {
   "cell_type": "code",
   "execution_count": 44,
   "id": "d90cafbd-a108-4959-b180-8e8616c1adb0",
   "metadata": {
    "tags": []
   },
   "outputs": [
    {
     "name": "stdout",
     "output_type": "stream",
     "text": [
      " python\n"
     ]
    }
   ],
   "source": [
    "# 等等，我还没完事！\n",
    "s = \" py\\\n",
    "thon\"\n",
    "print(s)"
   ]
  },
  {
   "cell_type": "markdown",
   "id": "cb30d7f6-3c3f-4d84-b2de-666ef6258017",
   "metadata": {},
   "source": [
    "## 字符串的性质"
   ]
  },
  {
   "cell_type": "markdown",
   "id": "019acd63-f149-4a13-8be7-0947c8d8593c",
   "metadata": {},
   "source": [
    "### 字符串的索引"
   ]
  },
  {
   "cell_type": "code",
   "execution_count": 45,
   "id": "f7ec0e1a-5132-4b47-b93a-ffeefce872b2",
   "metadata": {
    "tags": []
   },
   "outputs": [],
   "source": [
    "s = \"My name is Peppa Pig\""
   ]
  },
  {
   "cell_type": "markdown",
   "id": "4ec33a28-954b-4435-ac07-839f552c235b",
   "metadata": {},
   "source": [
    "* **变量名【位置编号】**"
   ]
  },
  {
   "cell_type": "markdown",
   "id": "6541d532-f98c-42a6-aca2-a4094483beb2",
   "metadata": {},
   "source": [
    "* 正向索引——从0开始递增\n",
    "* 位置编号不能超过字符串的长度"
   ]
  },
  {
   "cell_type": "code",
   "execution_count": 46,
   "id": "e3c62e8e-8438-46af-ac3e-ff0f930c15ba",
   "metadata": {
    "tags": []
   },
   "outputs": [
    {
     "name": "stdout",
     "output_type": "stream",
     "text": [
      "M\n",
      "y\n"
     ]
    }
   ],
   "source": [
    "print(s[0])\n",
    "print(s[1])"
   ]
  },
  {
   "cell_type": "markdown",
   "id": "caae3671-31b6-4c77-b0a6-527a4213295c",
   "metadata": {},
   "source": [
    "* 反向索引——从-1开始递减"
   ]
  },
  {
   "cell_type": "code",
   "execution_count": 47,
   "id": "fd2c82c5-d3f0-4ce0-8c49-b75cf738b7d7",
   "metadata": {
    "tags": []
   },
   "outputs": [
    {
     "name": "stdout",
     "output_type": "stream",
     "text": [
      "g\n"
     ]
    }
   ],
   "source": [
    "print(s[-1])"
   ]
  },
  {
   "cell_type": "markdown",
   "id": "68fb3c46-dc1b-4663-9f41-17897fe913be",
   "metadata": {},
   "source": [
    "* 索引只能获得一个字符，如何获得多个字符呢？"
   ]
  },
  {
   "cell_type": "markdown",
   "id": "e81cbc4c-09ca-4318-98de-239d5a1345ed",
   "metadata": {},
   "source": [
    "##  字符串的切片"
   ]
  },
  {
   "cell_type": "markdown",
   "id": "808fde56-f00c-4f6d-a3b2-413b2b8a1baf",
   "metadata": {},
   "source": [
    "* 变量名【开始位置：结束位置：切片间隔】"
   ]
  },
  {
   "cell_type": "markdown",
   "id": "9d597218-66c7-430c-98b3-52f69992d3e7",
   "metadata": {},
   "source": [
    "* 切片间隔如不设置 默认为1，可省略\n",
    "* 切片范围不包含结束位置"
   ]
  },
  {
   "cell_type": "code",
   "execution_count": 50,
   "id": "5a6255d8-0258-4e2e-97d5-c64be5ebc20e",
   "metadata": {
    "tags": []
   },
   "outputs": [
    {
     "name": "stdout",
     "output_type": "stream",
     "text": [
      "Ph\n"
     ]
    }
   ],
   "source": [
    "s = \"Pyhthon\"\n",
    "print(s[0:3:2]) #跨过去"
   ]
  },
  {
   "cell_type": "code",
   "execution_count": 51,
   "id": "827ebe30-d659-4a51-8fff-4858b9205553",
   "metadata": {
    "tags": []
   },
   "outputs": [
    {
     "name": "stdout",
     "output_type": "stream",
     "text": [
      "Pyh\n"
     ]
    }
   ],
   "source": [
    "print(s[0:3:1])"
   ]
  },
  {
   "cell_type": "markdown",
   "id": "8182b7d8-6995-4b70-888a-bf219f1c60b7",
   "metadata": {},
   "source": [
    "* 起始位置是 0 可以省略\n",
    "* 结束为止省略，代表可以取到最后一个字符\n",
    "* 可以使用反向索引"
   ]
  },
  {
   "cell_type": "code",
   "execution_count": 53,
   "id": "b56bf4d3-647b-4335-9fba-840e1a321f18",
   "metadata": {
    "tags": []
   },
   "outputs": [
    {
     "name": "stdout",
     "output_type": "stream",
     "text": [
      "Python\n"
     ]
    }
   ],
   "source": [
    "s = \"Python\"\n",
    "print(s[0:6])"
   ]
  },
  {
   "cell_type": "code",
   "execution_count": 54,
   "id": "5f1ad42e-0df8-44d6-ade7-c1e6774aad07",
   "metadata": {
    "tags": []
   },
   "outputs": [
    {
     "name": "stdout",
     "output_type": "stream",
     "text": [
      "Python\n"
     ]
    }
   ],
   "source": [
    "print(s[:6])"
   ]
  },
  {
   "cell_type": "code",
   "execution_count": 55,
   "id": "c87d4423-5f41-47c0-b3f9-f853c63acbc5",
   "metadata": {
    "tags": []
   },
   "outputs": [
    {
     "name": "stdout",
     "output_type": "stream",
     "text": [
      "Python\n"
     ]
    }
   ],
   "source": [
    "print(s[:])"
   ]
  },
  {
   "cell_type": "code",
   "execution_count": 56,
   "id": "57871f89-6dac-4026-b9af-8b511e7b015b",
   "metadata": {
    "tags": []
   },
   "outputs": [
    {
     "name": "stdout",
     "output_type": "stream",
     "text": [
      "Python\n"
     ]
    }
   ],
   "source": [
    "print(s[-6:])"
   ]
  },
  {
   "cell_type": "markdown",
   "id": "0c6267d1-a467-480e-83cf-4fdc09a1f3cc",
   "metadata": {
    "tags": []
   },
   "source": [
    "* **反向切片**"
   ]
  },
  {
   "cell_type": "markdown",
   "id": "5404796b-eb2f-4f62-b06e-675c1d039162",
   "metadata": {},
   "source": [
    "* 起始位置是-1，也可以省略\n",
    "* 结束位置省略，代表可以取到第一个字符"
   ]
  },
  {
   "cell_type": "code",
   "execution_count": 58,
   "id": "c0113767-3e3a-4137-8d1e-023a17e569ff",
   "metadata": {
    "tags": []
   },
   "outputs": [
    {
     "name": "stdout",
     "output_type": "stream",
     "text": [
      "97654321\n"
     ]
    }
   ],
   "source": [
    "s = \"12345679\"\n",
    "print(s[-1:-10:-1])"
   ]
  },
  {
   "cell_type": "code",
   "execution_count": 59,
   "id": "af18e9a3-aef2-41bb-986e-c245b394b679",
   "metadata": {
    "tags": []
   },
   "outputs": [
    {
     "name": "stdout",
     "output_type": "stream",
     "text": [
      "\n"
     ]
    }
   ],
   "source": [
    "print(s[-1:-10])"
   ]
  },
  {
   "cell_type": "code",
   "execution_count": 60,
   "id": "dd80a22e-f070-461c-9e6e-ff1bf37b2dc4",
   "metadata": {
    "tags": []
   },
   "outputs": [
    {
     "name": "stdout",
     "output_type": "stream",
     "text": [
      "97654321\n"
     ]
    }
   ],
   "source": [
    "print(s[::-1])"
   ]
  },
  {
   "cell_type": "markdown",
   "id": "8a9296c5-f675-47ef-8d03-cb855bdce29e",
   "metadata": {},
   "source": [
    "### 字符串操作符"
   ]
  },
  {
   "cell_type": "markdown",
   "id": "41fb5e9b-85bc-4c2c-829a-b793d06de8c7",
   "metadata": {},
   "source": [
    "* 字符串 1 + 字符串 2"
   ]
  },
  {
   "cell_type": "code",
   "execution_count": 62,
   "id": "633cce8e-597b-42ad-b911-3b7805800618",
   "metadata": {
    "tags": []
   },
   "outputs": [
    {
     "data": {
      "text/plain": [
       "'I love myself '"
      ]
     },
     "execution_count": 62,
     "metadata": {},
     "output_type": "execute_result"
    }
   ],
   "source": [
    "a = \"I love \"\n",
    "b = \"myself \"\n",
    "a + b"
   ]
  },
  {
   "cell_type": "markdown",
   "id": "ceddd898-34ee-4ddd-adfa-9c4bd778314d",
   "metadata": {},
   "source": [
    "### 字符串的成倍复制"
   ]
  },
  {
   "cell_type": "markdown",
   "id": "c5e5c2ca-3608-4b7d-978b-07d06793ede6",
   "metadata": {},
   "source": [
    "* 字符串 * n"
   ]
  },
  {
   "cell_type": "code",
   "execution_count": 64,
   "id": "8d6a9642-ff9b-4555-8a13-a05a42b7c899",
   "metadata": {
    "tags": []
   },
   "outputs": [
    {
     "name": "stdout",
     "output_type": "stream",
     "text": [
      "I love I love I love I love I love \n"
     ]
    }
   ],
   "source": [
    "a = \"I love \"\n",
    "print(a *5)"
   ]
  },
  {
   "cell_type": "markdown",
   "id": "f478d713-9e00-4d43-8048-dfa4ed9034ce",
   "metadata": {},
   "source": [
    "### 成员计算"
   ]
  },
  {
   "cell_type": "markdown",
   "id": "a1d4733e-d80b-4a7b-9ac7-a1532c7ccfa2",
   "metadata": {},
   "source": [
    "* **子集 in 全集** 任何一个连续的切片都是原字符串的子集"
   ]
  },
  {
   "cell_type": "code",
   "execution_count": 66,
   "id": "f19b4894-3505-4b1c-a55c-97f97b191d60",
   "metadata": {
    "tags": []
   },
   "outputs": [
    {
     "data": {
      "text/plain": [
       "True"
      ]
     },
     "execution_count": 66,
     "metadata": {},
     "output_type": "execute_result"
    }
   ],
   "source": [
    "folk_singers = \"peter, paul and marry\"\n",
    "\"peter\" in folk_singers"
   ]
  },
  {
   "cell_type": "code",
   "execution_count": 67,
   "id": "51491a9e-f7f6-4e0a-8652-bf6ac34030c3",
   "metadata": {
    "tags": []
   },
   "outputs": [
    {
     "data": {
      "text/plain": [
       "False"
      ]
     },
     "execution_count": 67,
     "metadata": {},
     "output_type": "execute_result"
    }
   ],
   "source": [
    "\"2\" in folk_singers"
   ]
  },
  {
   "cell_type": "markdown",
   "id": "24053861-5795-4336-abbc-b6c7f46a483c",
   "metadata": {},
   "source": [
    "* **遍历字符串** for 字符 in 字符串"
   ]
  },
  {
   "cell_type": "code",
   "execution_count": 68,
   "id": "5c7deeee-4468-4b4c-800d-6c9cfffaa28c",
   "metadata": {
    "tags": []
   },
   "outputs": [
    {
     "name": "stdout",
     "output_type": "stream",
     "text": [
      "P\n",
      "y\n",
      "t\n",
      "h\n",
      "o\n",
      "n\n"
     ]
    }
   ],
   "source": [
    "for s in \"Python\":\n",
    "    print(s)"
   ]
  },
  {
   "cell_type": "markdown",
   "id": "a7d23615-66ef-4055-b7be-592349301ae7",
   "metadata": {},
   "source": [
    "## 字符串处理函数"
   ]
  },
  {
   "cell_type": "markdown",
   "id": "64a07c3e-b18a-4972-9c1f-ac526b3082f2",
   "metadata": {},
   "source": [
    "### 字符串的长度"
   ]
  },
  {
   "cell_type": "markdown",
   "id": "142de637-648b-4614-8df4-5142a65faaa9",
   "metadata": {},
   "source": [
    "* 所含字符的个数"
   ]
  },
  {
   "cell_type": "code",
   "execution_count": 70,
   "id": "882b2044-948c-46ff-a680-c2b17d87cc22",
   "metadata": {
    "tags": []
   },
   "outputs": [
    {
     "data": {
      "text/plain": [
       "6"
      ]
     },
     "execution_count": 70,
     "metadata": {},
     "output_type": "execute_result"
    }
   ],
   "source": [
    "s = \"python\"\n",
    "len(s)"
   ]
  },
  {
   "cell_type": "markdown",
   "id": "1f1b009e-2ed1-4465-9320-8cf953a55a52",
   "metadata": {},
   "source": [
    "### 字符编码"
   ]
  },
  {
   "cell_type": "markdown",
   "id": "ff96e70f-0cbd-48d0-940e-aa6932071e6b",
   "metadata": {
    "tags": []
   },
   "source": [
    "* **将中文字库，英文字母，数字，特殊字符等转化为计算机可识别的二进制数**"
   ]
  },
  {
   "cell_type": "markdown",
   "id": "301f36d4-84c3-4682-8e88-e5d74473c3a5",
   "metadata": {},
   "source": [
    "* 每一个单一字符对应一个唯一的互不重复的二进制编码\n",
    "* Pyhton中使用的是Unicode编码"
   ]
  },
  {
   "cell_type": "markdown",
   "id": "2235c943-1561-40a4-9cec-b90c648535b4",
   "metadata": {},
   "source": [
    "* **将字符转化为Unicode码**——ord(字符)"
   ]
  },
  {
   "cell_type": "code",
   "execution_count": 73,
   "id": "3a38961f-0619-44a7-96dc-a49cc8292eae",
   "metadata": {
    "tags": []
   },
   "outputs": [
    {
     "name": "stdout",
     "output_type": "stream",
     "text": [
      "49\n",
      "29579\n",
      "28009\n",
      "30007\n"
     ]
    }
   ],
   "source": [
    "print(ord(\"1\"))\n",
    "print(ord(\"王\"))\n",
    "print(ord(\"浩\"))\n",
    "print(ord(\"男\"))"
   ]
  },
  {
   "cell_type": "markdown",
   "id": "ac57592c-8022-49ca-a42e-55a93720c753",
   "metadata": {},
   "source": [
    "* **将Unicode码转化为字符**——chr(Unicode码)"
   ]
  },
  {
   "cell_type": "code",
   "execution_count": 76,
   "id": "e630e4fd-ada3-48a4-ae41-9af5e3c52659",
   "metadata": {
    "tags": []
   },
   "outputs": [
    {
     "name": "stdout",
     "output_type": "stream",
     "text": [
      "ϲ\n"
     ]
    }
   ],
   "source": [
    "print(chr(1010))"
   ]
  },
  {
   "cell_type": "markdown",
   "id": "08a841c4-532f-44a2-9251-296984dffa87",
   "metadata": {},
   "source": [
    "## 字符串处理方法⭐️"
   ]
  },
  {
   "cell_type": "markdown",
   "id": "5a21b900-ea31-4dd0-9b43-8e269b34df8b",
   "metadata": {},
   "source": [
    "### 字符串的分割——字符串.split(分割字符)"
   ]
  },
  {
   "cell_type": "markdown",
   "id": "9b74884b-f190-4f1b-a628-33c9ce7efd34",
   "metadata": {},
   "source": [
    "* 返回一个列表\n",
    "* 原字符串不变"
   ]
  },
  {
   "cell_type": "markdown",
   "id": "b8b8e834-6a92-4ef0-b8e0-91bc0c66d1a7",
   "metadata": {},
   "source": [
    "* **上述特性适合以下所有的字符串处理方法**"
   ]
  },
  {
   "cell_type": "code",
   "execution_count": 77,
   "id": "6c5a7e0b-f78e-46a2-bc26-70aae4f33ce3",
   "metadata": {
    "tags": []
   },
   "outputs": [
    {
     "name": "stdout",
     "output_type": "stream",
     "text": [
      "['Python', 'C', 'C++', 'java', 'PHP', 'R']\n",
      "Python C C++ java PHP R\n"
     ]
    }
   ],
   "source": [
    "languages = \"Python C C++ java PHP R\"\n",
    "languages_list = languages.split(\" \")\n",
    "print(languages_list)\n",
    "print(languages)"
   ]
  },
  {
   "cell_type": "markdown",
   "id": "727a9b05-6e64-4cbb-a541-18aba7f25230",
   "metadata": {},
   "source": [
    "### 字符串的聚合——”聚合字符“.join(可迭代数据类型)"
   ]
  },
  {
   "cell_type": "code",
   "execution_count": 78,
   "id": "e8cea098-c864-4120-9651-9c65279b829d",
   "metadata": {
    "tags": []
   },
   "outputs": [
    {
     "data": {
      "text/plain": [
       "'1,2,3,4,5'"
      ]
     },
     "execution_count": 78,
     "metadata": {},
     "output_type": "execute_result"
    }
   ],
   "source": [
    "s = \"12345\"\n",
    "s_join = \",\".join(s)\n",
    "s_join"
   ]
  },
  {
   "cell_type": "markdown",
   "id": "e402d0b7-932f-430c-ae06-d23fa3fdfeb3",
   "metadata": {},
   "source": [
    "* 序列类型的元素必须是字符类型"
   ]
  },
  {
   "cell_type": "code",
   "execution_count": 79,
   "id": "0e79bc0e-9d2e-410d-a13b-bd9d7dbf16eb",
   "metadata": {
    "tags": []
   },
   "outputs": [
    {
     "data": {
      "text/plain": [
       "'1*2*3*4*5'"
      ]
     },
     "execution_count": 79,
     "metadata": {},
     "output_type": "execute_result"
    }
   ],
   "source": [
    "s = [\"1\",\"2\",\"3\",\"4\",\"5\"]\n",
    "\"*\".join(s)"
   ]
  },
  {
   "cell_type": "markdown",
   "id": "aaf1142a-dd02-4caf-93d0-4e41f34dbf35",
   "metadata": {},
   "source": [
    "### 删除两端特定字符——字符串.ship(删除字符)"
   ]
  },
  {
   "cell_type": "markdown",
   "id": "700385d3-685c-4c77-ba6f-52d6e4031670",
   "metadata": {},
   "source": [
    "* strip从两侧开始搜索，遇到指定字符执行删除，遇到非指定字符，搜索停止\n",
    "* 类似的还有左删除lstrip和右删除rstrip"
   ]
  },
  {
   "cell_type": "code",
   "execution_count": 80,
   "id": "c86943c6-3faf-46f7-b999-a5db174a2f1c",
   "metadata": {
    "tags": []
   },
   "outputs": [
    {
     "name": "stdout",
     "output_type": "stream",
     "text": [
      "I have many blanks\n",
      "I have many blanks     \n",
      "     I have many blanks\n"
     ]
    }
   ],
   "source": [
    "s = \"     I have many blanks     \"\n",
    "print(s.strip(\" \"))\n",
    "print(s.lstrip(\" \"))\n",
    "print(s.rstrip(\" \"))"
   ]
  },
  {
   "cell_type": "markdown",
   "id": "0072d7e2-f332-4f57-aa7d-387bd7ae438b",
   "metadata": {},
   "source": [
    "### 字符串的替换——字符串.replace(\"被替换\"，”替换成“)"
   ]
  },
  {
   "cell_type": "code",
   "execution_count": 81,
   "id": "f9025607-7a28-4f23-8969-2390faedb676",
   "metadata": {
    "tags": []
   },
   "outputs": [
    {
     "name": "stdout",
     "output_type": "stream",
     "text": [
      "Py is coming\n"
     ]
    }
   ],
   "source": [
    "s = \"Python is coming\"\n",
    "s1 = s.replace(\"Python\",\"Py\")\n",
    "print(s1)"
   ]
  },
  {
   "cell_type": "markdown",
   "id": "7b849b4a-4873-4f94-b28d-264144cef55f",
   "metadata": {},
   "source": [
    "### 字符串统计——字符串.count(\"待统计字符串\")"
   ]
  },
  {
   "cell_type": "code",
   "execution_count": 82,
   "id": "880860ea-dc2e-4323-bce0-8bf2e2d64e6a",
   "metadata": {
    "tags": []
   },
   "outputs": [
    {
     "name": "stdout",
     "output_type": "stream",
     "text": [
      "an: 2\n"
     ]
    }
   ],
   "source": [
    "s = \"Python is an excellent language\"\n",
    "print(\"an:\", s.count(\"an\"))"
   ]
  },
  {
   "cell_type": "markdown",
   "id": "e8cc990a-ff41-4532-9bc5-28beb3276d03",
   "metadata": {},
   "source": [
    "### 字符串字母大小写"
   ]
  },
  {
   "cell_type": "markdown",
   "id": "408ac889-2d85-4cc8-bbba-333c3f8ce6f1",
   "metadata": {},
   "source": [
    "* 字符串.upper()字母全部大写"
   ]
  },
  {
   "cell_type": "code",
   "execution_count": 83,
   "id": "f763a849-b250-4e7e-a7f2-804ed9630382",
   "metadata": {
    "tags": []
   },
   "outputs": [
    {
     "data": {
      "text/plain": [
       "'PYTHON'"
      ]
     },
     "execution_count": 83,
     "metadata": {},
     "output_type": "execute_result"
    }
   ],
   "source": [
    "s = \"Python\"\n",
    "s.upper()"
   ]
  },
  {
   "cell_type": "markdown",
   "id": "1bdd6419-997a-420f-8319-3b14f7e5d081",
   "metadata": {},
   "source": [
    "* 字符串。lower()字母全部小写"
   ]
  },
  {
   "cell_type": "code",
   "execution_count": 84,
   "id": "57640da9-db08-4c33-968c-248b45af1bc4",
   "metadata": {
    "tags": []
   },
   "outputs": [
    {
     "data": {
      "text/plain": [
       "'python'"
      ]
     },
     "execution_count": 84,
     "metadata": {},
     "output_type": "execute_result"
    }
   ],
   "source": [
    "s.lower()"
   ]
  },
  {
   "cell_type": "markdown",
   "id": "774066cc-be82-4ff6-ab2a-e9095bd1b6a0",
   "metadata": {},
   "source": [
    "* 字符串。title()首字母大写"
   ]
  },
  {
   "cell_type": "code",
   "execution_count": 85,
   "id": "cc02977d-5f94-457b-9c37-80fb9a49a9f1",
   "metadata": {
    "tags": []
   },
   "outputs": [
    {
     "data": {
      "text/plain": [
       "'Python'"
      ]
     },
     "execution_count": 85,
     "metadata": {},
     "output_type": "execute_result"
    }
   ],
   "source": [
    "s.title()"
   ]
  },
  {
   "cell_type": "markdown",
   "id": "1f1cdf95-b25b-4a22-9ad1-8682bfeadbf9",
   "metadata": {},
   "source": [
    "# 第三部分 布尔类型 True or False"
   ]
  },
  {
   "cell_type": "markdown",
   "id": "5451bd00-06eb-4748-a2fb-b3b95f9e8af3",
   "metadata": {},
   "source": [
    " ![jupyter](./布尔类型.png)"
   ]
  },
  {
   "cell_type": "markdown",
   "id": "e5c077a1-70fc-4c98-bf44-a2fa3bc26054",
   "metadata": {
    "tags": []
   },
   "source": [
    "## 逻辑运算的结果"
   ]
  },
  {
   "cell_type": "code",
   "execution_count": 88,
   "id": "51984745-38ad-4176-a6fa-6d12858ba7cf",
   "metadata": {
    "tags": []
   },
   "outputs": [
    {
     "name": "stdout",
     "output_type": "stream",
     "text": [
      "True\n"
     ]
    }
   ],
   "source": [
    "a = 10\n",
    "print(a > 1)"
   ]
  },
  {
   "cell_type": "markdown",
   "id": "faf6ab9c-cfbb-4f62-84d0-a71df8944e11",
   "metadata": {},
   "source": [
    "* any() all() 非0元素的判断"
   ]
  },
  {
   "cell_type": "code",
   "execution_count": 89,
   "id": "4e349344-7a0d-42dd-8d5a-17fb348dd6ed",
   "metadata": {
    "tags": []
   },
   "outputs": [
    {
     "name": "stdout",
     "output_type": "stream",
     "text": [
      "True\n",
      "False\n"
     ]
    }
   ],
   "source": [
    "print(any([False,1,0,None]))\n",
    "print(all([False,1,0,None]))"
   ]
  },
  {
   "cell_type": "markdown",
   "id": "983dc56a-0dc0-4225-9bef-da0c1d568597",
   "metadata": {},
   "source": [
    "## 指示条件"
   ]
  },
  {
   "cell_type": "markdown",
   "id": "7bf8306b-e30d-49fd-b63f-f66f466a87ad",
   "metadata": {},
   "source": [
    "* True总是做成while循环的指示条件"
   ]
  },
  {
   "cell_type": "code",
   "execution_count": null,
   "id": "34ed1361-ca59-4ee7-a838-b1ae107f5ffc",
   "metadata": {},
   "outputs": [],
   "source": [
    "n = 2800\n",
    "while True:  #True保证了while循环会一直往下运行\n",
    "    m = eval(input(\"请输入一个正整数：\"))\n",
    "    if m == n:\n",
    "        print(\"你猜对了\")\n",
    "        break #break停止，当满足break条件时，就可以暂停跳出去\n",
    "    elif m > n:\n",
    "        print(\"太大了\")\n",
    "    else:\n",
    "        print(\"太小了\")"
   ]
  },
  {
   "cell_type": "markdown",
   "id": "98258929-41a2-466c-8fc5-4c35b14b10c4",
   "metadata": {},
   "source": [
    "## 作为numpy数组的掩码"
   ]
  },
  {
   "cell_type": "code",
   "execution_count": null,
   "id": "dcbb0a4e-b1e0-4aca-8700-9e69b7243cd8",
   "metadata": {},
   "outputs": [],
   "source": [
    "import numpy as np\n",
    "x = np.array([1,3,2,5,7])  # 定义numpy数组\n",
    "print(x > 3)"
   ]
  },
  {
   "cell_type": "markdown",
   "id": "64e76ae4-d1c8-4141-a5b4-dd1c5523a784",
   "metadata": {},
   "source": [
    "# 第四部分 类型判别及类型转换"
   ]
  },
  {
   "cell_type": "markdown",
   "id": "bf73d40c-df1f-4e7b-bf71-2b975662ac61",
   "metadata": {
    "tags": []
   },
   "source": [
    "![jupyter](./转换类型.png)"
   ]
  },
  {
   "cell_type": "markdown",
   "id": "086f1fc7-9c90-4fc0-8a0b-1ff156a05f65",
   "metadata": {},
   "source": [
    "## 类型判别"
   ]
  },
  {
   "cell_type": "markdown",
   "id": "385b487e-90fd-47c6-bdf2-944c5d879bbc",
   "metadata": {},
   "source": [
    "* type(变量)"
   ]
  },
  {
   "cell_type": "code",
   "execution_count": 1,
   "id": "8b245d40-f52a-4bf1-bb8b-f04fcfbc43d0",
   "metadata": {
    "tags": []
   },
   "outputs": [
    {
     "name": "stdout",
     "output_type": "stream",
     "text": [
      "<class 'int'>\n",
      "<class 'str'>\n"
     ]
    }
   ],
   "source": [
    "age = 20\n",
    "name = \"Ada\"\n",
    "print(type(age))\n",
    "print(type(name))"
   ]
  },
  {
   "cell_type": "markdown",
   "id": "bb2b4426-4dca-4170-81b9-7db96a6adbcb",
   "metadata": {},
   "source": [
    "* isinstance（变量，预判类型）**承认继承**\n",
    "* 变量类型是预判类型的子类型，则为真，否则为假"
   ]
  },
  {
   "cell_type": "code",
   "execution_count": 2,
   "id": "da1685ab-520c-4e71-b984-739c774f51dd",
   "metadata": {
    "tags": []
   },
   "outputs": [
    {
     "name": "stdout",
     "output_type": "stream",
     "text": [
      "True\n",
      "True\n"
     ]
    }
   ],
   "source": [
    "print(isinstance(age,int))\n",
    "print(isinstance(name,object))"
   ]
  },
  {
   "cell_type": "markdown",
   "id": "494e5892-4bbd-4a24-a30d-064938d5a6c1",
   "metadata": {},
   "source": [
    "* 字符串检查方法"
   ]
  },
  {
   "cell_type": "markdown",
   "id": "f34609ca-0acd-4e7b-beb8-6daec2c3a649",
   "metadata": {},
   "source": [
    "* **字符串.isdigit()字符是否只有数字组成？**"
   ]
  },
  {
   "cell_type": "code",
   "execution_count": 6,
   "id": "92d57e93-2093-449d-a1e0-ba3a1bfbc526",
   "metadata": {
    "tags": []
   },
   "outputs": [
    {
     "data": {
      "text/plain": [
       "True"
      ]
     },
     "execution_count": 6,
     "metadata": {},
     "output_type": "execute_result"
    }
   ],
   "source": [
    "age = \"20\"\n",
    "name = \"Ada\"\n",
    "age.isdigit()"
   ]
  },
  {
   "cell_type": "code",
   "execution_count": 7,
   "id": "720cc220-19b8-4e6e-8cb5-57d63dfbfd6d",
   "metadata": {
    "tags": []
   },
   "outputs": [
    {
     "data": {
      "text/plain": [
       "False"
      ]
     },
     "execution_count": 7,
     "metadata": {},
     "output_type": "execute_result"
    }
   ],
   "source": [
    "name.isdigit()"
   ]
  },
  {
   "cell_type": "markdown",
   "id": "0509d4b0-226f-4df4-9a88-686013e1e7ce",
   "metadata": {
    "tags": []
   },
   "source": [
    "* **字符串.islpha()字符是否只有字母组成？**"
   ]
  },
  {
   "cell_type": "code",
   "execution_count": 9,
   "id": "cc3f86df-67bd-404d-9344-1803d2685dd8",
   "metadata": {
    "tags": []
   },
   "outputs": [
    {
     "data": {
      "text/plain": [
       "True"
      ]
     },
     "execution_count": 9,
     "metadata": {},
     "output_type": "execute_result"
    }
   ],
   "source": [
    "name.isalpha()"
   ]
  },
  {
   "cell_type": "code",
   "execution_count": 10,
   "id": "6b8513ee-077c-4acf-8df0-47654735b98b",
   "metadata": {
    "tags": []
   },
   "outputs": [
    {
     "data": {
      "text/plain": [
       "False"
      ]
     },
     "execution_count": 10,
     "metadata": {},
     "output_type": "execute_result"
    }
   ],
   "source": [
    "age.isalpha()"
   ]
  },
  {
   "cell_type": "markdown",
   "id": "40bc08cf-25a9-4248-b42f-348f20944f26",
   "metadata": {
    "tags": []
   },
   "source": [
    "* **字符串.isalnum()字符是否只有数字字母组成？**"
   ]
  },
  {
   "cell_type": "code",
   "execution_count": 15,
   "id": "ed987c1e-9473-4f5d-995c-f123e7951e6c",
   "metadata": {
    "tags": []
   },
   "outputs": [
    {
     "data": {
      "text/plain": [
       "True"
      ]
     },
     "execution_count": 15,
     "metadata": {},
     "output_type": "execute_result"
    }
   ],
   "source": [
    "\"Ada20\".isalnum()"
   ]
  },
  {
   "cell_type": "markdown",
   "id": "2403ee5e-743a-44a6-b621-086a0b5723a6",
   "metadata": {},
   "source": [
    "## 类型转换"
   ]
  },
  {
   "cell_type": "markdown",
   "id": "4354cbff-f352-4ee8-bdba-293450ff71c1",
   "metadata": {},
   "source": [
    "* 数字类型转字符串 str(数字类型)"
   ]
  },
  {
   "cell_type": "code",
   "execution_count": 16,
   "id": "ae0be037-8ed1-41c9-b033-08d132ff30fc",
   "metadata": {
    "tags": []
   },
   "outputs": [
    {
     "name": "stdout",
     "output_type": "stream",
     "text": [
      "My age is 20\n"
     ]
    }
   ],
   "source": [
    "age = 20\n",
    "print(\"My age is \" + str(age))"
   ]
  },
  {
   "cell_type": "markdown",
   "id": "d8f241e2-3005-4107-8ae9-4cb7491b28bf",
   "metadata": {},
   "source": [
    "* 仅有数字组成的字符串转数字 int() float() eval()"
   ]
  },
  {
   "cell_type": "code",
   "execution_count": 17,
   "id": "963e6a5d-0f87-4e5d-bbf8-f69c6fc52c6b",
   "metadata": {
    "tags": []
   },
   "outputs": [],
   "source": [
    "s1 = \"20\"\n",
    "s2 = \"10.1\""
   ]
  },
  {
   "cell_type": "code",
   "execution_count": 18,
   "id": "fec5d109-f102-46a3-8743-643ab6170d71",
   "metadata": {
    "tags": []
   },
   "outputs": [
    {
     "data": {
      "text/plain": [
       "20"
      ]
     },
     "execution_count": 18,
     "metadata": {},
     "output_type": "execute_result"
    }
   ],
   "source": [
    "int(s1)"
   ]
  },
  {
   "cell_type": "code",
   "execution_count": 19,
   "id": "1f5001b2-0191-4323-b8e7-0cf429026719",
   "metadata": {
    "tags": []
   },
   "outputs": [
    {
     "data": {
      "text/plain": [
       "20.0"
      ]
     },
     "execution_count": 19,
     "metadata": {},
     "output_type": "execute_result"
    }
   ],
   "source": [
    "float(s1)"
   ]
  },
  {
   "cell_type": "code",
   "execution_count": 20,
   "id": "e0648818-2864-4af0-b861-ce52907a97ea",
   "metadata": {
    "tags": []
   },
   "outputs": [
    {
     "data": {
      "text/plain": [
       "20"
      ]
     },
     "execution_count": 20,
     "metadata": {},
     "output_type": "execute_result"
    }
   ],
   "source": [
    "eval(s1)"
   ]
  },
  {
   "cell_type": "code",
   "execution_count": 21,
   "id": "a42ed5eb-19d7-480f-8704-6bf417aa8d3b",
   "metadata": {
    "tags": []
   },
   "outputs": [
    {
     "data": {
      "text/plain": [
       "10.1"
      ]
     },
     "execution_count": 21,
     "metadata": {},
     "output_type": "execute_result"
    }
   ],
   "source": [
    "eval(s2)"
   ]
  },
  {
   "cell_type": "code",
   "execution_count": null,
   "id": "9bf93dd6-bf4a-40ca-ac70-a2fa7e713c83",
   "metadata": {},
   "outputs": [],
   "source": []
  }
 ],
 "metadata": {
  "kernelspec": {
   "display_name": "Python 3 (ipykernel)",
   "language": "python",
   "name": "python3"
  },
  "language_info": {
   "codemirror_mode": {
    "name": "ipython",
    "version": 3
   },
   "file_extension": ".py",
   "mimetype": "text/x-python",
   "name": "python",
   "nbconvert_exporter": "python",
   "pygments_lexer": "ipython3",
   "version": "3.11.4"
  },
  "toc-autonumbering": true,
  "toc-showcode": false,
  "toc-showmarkdowntxt": true
 },
 "nbformat": 4,
 "nbformat_minor": 5
}
