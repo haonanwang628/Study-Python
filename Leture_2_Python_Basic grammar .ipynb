{
 "cells": [
  {
   "cell_type": "markdown",
   "id": "1b54fc4a-0a2f-420e-8bb3-a866d45f2b64",
   "metadata": {},
   "source": [
    "# Leture2 Pyhton 基本语法元素"
   ]
  },
  {
   "cell_type": "markdown",
   "id": "c3fc3a5c-e693-441a-9ca6-1c34544e53e1",
   "metadata": {},
   "source": [
    "## 第一部分：数据类型"
   ]
  },
  {
   "cell_type": "markdown",
   "id": "466abec3-a4ce-4abb-8a89-b54a0c7dfc46",
   "metadata": {},
   "source": [
    "### 1.1 数字类型"
   ]
  },
  {
   "cell_type": "markdown",
   "id": "da47730b-436b-4403-b91a-9ff6cc41786b",
   "metadata": {
    "tags": []
   },
   "source": [
    "* **int** 整型 整数"
   ]
  },
  {
   "cell_type": "code",
   "execution_count": 1,
   "id": "a67641d6-beef-4cea-9ffc-bfaa2f708652",
   "metadata": {
    "tags": []
   },
   "outputs": [
    {
     "data": {
      "text/plain": [
       "2"
      ]
     },
     "execution_count": 1,
     "metadata": {},
     "output_type": "execute_result"
    }
   ],
   "source": [
    "2"
   ]
  },
  {
   "cell_type": "markdown",
   "id": "51d1cb4b-66ab-4aec-a310-ebbf4231851e",
   "metadata": {
    "tags": []
   },
   "source": [
    "* **float** 浮点型 带小数的数"
   ]
  },
  {
   "cell_type": "code",
   "execution_count": 2,
   "id": "92739501-ad94-4059-951e-a477f39a9e05",
   "metadata": {
    "tags": []
   },
   "outputs": [
    {
     "data": {
      "text/plain": [
       "2.0"
      ]
     },
     "execution_count": 2,
     "metadata": {},
     "output_type": "execute_result"
    }
   ],
   "source": [
    "2.0"
   ]
  },
  {
   "cell_type": "markdown",
   "id": "b0db08e1-53ea-44e4-94dd-75f861db39de",
   "metadata": {},
   "source": [
    "* **complex** 复数 a+bj"
   ]
  },
  {
   "cell_type": "code",
   "execution_count": 3,
   "id": "c23fa2d1-420e-4926-9df9-c38ac8b7ce53",
   "metadata": {
    "tags": []
   },
   "outputs": [
    {
     "data": {
      "text/plain": [
       "(3+4j)"
      ]
     },
     "execution_count": 3,
     "metadata": {},
     "output_type": "execute_result"
    }
   ],
   "source": [
    "3+4j"
   ]
  },
  {
   "cell_type": "markdown",
   "id": "de420de3-3fc2-4034-a99d-85fabd46d5c4",
   "metadata": {},
   "source": [
    "### 1.2 字符串类型"
   ]
  },
  {
   "cell_type": "markdown",
   "id": "0b168507-ad0d-4d26-b2bd-13cabd151431",
   "metadata": {},
   "source": [
    "* str字符串 视作文本\n",
    "* **组成** 由数字，字母，空格，其他字符等组合而成\n",
    "* **表达** 用\"\"或者''"
   ]
  },
  {
   "cell_type": "code",
   "execution_count": 4,
   "id": "e3b05804-5ec0-4933-b6aa-fb7fae1a13b5",
   "metadata": {
    "tags": []
   },
   "outputs": [
    {
     "data": {
      "text/plain": [
       "'python= Haonan Wang'"
      ]
     },
     "execution_count": 4,
     "metadata": {},
     "output_type": "execute_result"
    }
   ],
   "source": [
    "\"python= Haonan Wang\""
   ]
  },
  {
   "cell_type": "markdown",
   "id": "28405d9f-0124-461a-a997-2add72c49214",
   "metadata": {},
   "source": [
    "### 1.3 布尔类型"
   ]
  },
  {
   "cell_type": "markdown",
   "id": "9d52427a-a3a1-483c-9b70-ca794d553e8a",
   "metadata": {},
   "source": [
    "* bool 布尔类型\n",
    "* 主要用于逻辑计算（判断True or Flase）"
   ]
  },
  {
   "cell_type": "code",
   "execution_count": 5,
   "id": "aed9d2fd-01db-4b2f-8809-5ded5b734222",
   "metadata": {
    "tags": []
   },
   "outputs": [
    {
     "data": {
      "text/plain": [
       "True"
      ]
     },
     "execution_count": 5,
     "metadata": {},
     "output_type": "execute_result"
    }
   ],
   "source": [
    "y = 2 > 1\n",
    "y"
   ]
  },
  {
   "cell_type": "markdown",
   "id": "fcf93a92-78a6-43be-9737-f1301fd783fe",
   "metadata": {},
   "source": [
    "**Conclusion:上述类型均可以定义单个数据，如果我们有一组数据应该怎么表示呢?**"
   ]
  },
  {
   "cell_type": "markdown",
   "id": "ba81c02d-1cac-42d9-915e-79f4a6b81d1e",
   "metadata": {},
   "source": [
    "## 2.组合数据类型：列表，元组，字典，集合"
   ]
  },
  {
   "cell_type": "markdown",
   "id": "464af338-160a-456f-bd34-a22e1e2b3d27",
   "metadata": {},
   "source": [
    "### 2.1 列表"
   ]
  },
  {
   "cell_type": "markdown",
   "id": "63d1aa1c-c75e-4404-8115-c4a0927abaf9",
   "metadata": {},
   "source": [
    "* list列表  序列类型：数据有位置顺序\n",
    "* 表示方式 [data1,data2....]"
   ]
  },
  {
   "cell_type": "code",
   "execution_count": 6,
   "id": "c94742b3-abec-48d9-b0cf-d6542484effe",
   "metadata": {
    "tags": []
   },
   "outputs": [
    {
     "data": {
      "text/plain": [
       "1"
      ]
     },
     "execution_count": 6,
     "metadata": {},
     "output_type": "execute_result"
    }
   ],
   "source": [
    "a = [1,2,3,4,5]\n",
    "a[0] #从0开始排顺序的"
   ]
  },
  {
   "cell_type": "markdown",
   "id": "5dc2fe91-f06f-4632-9320-268556a004bf",
   "metadata": {},
   "source": [
    "### 2.2 元组"
   ]
  },
  {
   "cell_type": "markdown",
   "id": "64165ac4-7bfe-41a4-80a2-7677b2f16a0a",
   "metadata": {},
   "source": [
    "* tuple元组  序列类型\n",
    "* **表示方式：** （data1,data2,....）\n",
    "* 元素不支持修改——“不可变的列表”"
   ]
  },
  {
   "cell_type": "code",
   "execution_count": 7,
   "id": "7bb362bb-cc0f-468e-80d2-4bb2ed3cd007",
   "metadata": {
    "tags": []
   },
   "outputs": [
    {
     "data": {
      "text/plain": [
       "4"
      ]
     },
     "execution_count": 7,
     "metadata": {},
     "output_type": "execute_result"
    }
   ],
   "source": [
    "b = (1,2,3,4,5,4,2,3)\n",
    "b[3]"
   ]
  },
  {
   "cell_type": "markdown",
   "id": "ffabec7b-ec8b-4d54-87e1-77eb936ef8d3",
   "metadata": {
    "tags": []
   },
   "source": [
    "### 2.3 字典"
   ]
  },
  {
   "cell_type": "markdown",
   "id": "7ced5c64-53ce-4610-8947-25c2f9c085de",
   "metadata": {},
   "source": [
    "* dict 字典 **映射类型**： 通过“键”-“值”的映射实现数据存储和查找\n",
    "* **表示方式：** {key1:value1, key2:value2, .....} \n",
    "* 注意是内部其实是无序的"
   ]
  },
  {
   "cell_type": "code",
   "execution_count": 8,
   "id": "de0b53f2-c3ba-4b4a-9a58-02966083f031",
   "metadata": {
    "tags": []
   },
   "outputs": [
    {
     "data": {
      "text/plain": [
       "'小红'"
      ]
     },
     "execution_count": 8,
     "metadata": {},
     "output_type": "execute_result"
    }
   ],
   "source": [
    "student = {201901:\"小明\", 201902:\"小红\", 201903:\"小强\"}\n",
    "student[201902]"
   ]
  },
  {
   "cell_type": "markdown",
   "id": "737814a0-f553-4ba3-8c8f-796ac93b9e3a",
   "metadata": {},
   "source": [
    "### 2.4 集合"
   ]
  },
  {
   "cell_type": "markdown",
   "id": "a27eca97-c93b-4574-9028-577c58da3510",
   "metadata": {},
   "source": [
    "* set集合 **一系列互不相等元素的集合，无序的**\n",
    "* **表示方式：** {data1,data2,...}"
   ]
  },
  {
   "cell_type": "code",
   "execution_count": 9,
   "id": "fadd7ad8-006e-4f9f-b4f8-98c9475e6980",
   "metadata": {
    "tags": []
   },
   "outputs": [
    {
     "data": {
      "text/plain": [
       "{'小强', '小明', '小红'}"
      ]
     },
     "execution_count": 9,
     "metadata": {},
     "output_type": "execute_result"
    }
   ],
   "source": [
    "s = {\"小明\",\"小红\",\"小强\", \"小明\"}\n",
    "s"
   ]
  },
  {
   "cell_type": "markdown",
   "id": "25c82ee2-aaa5-49b2-8999-134bed12915c",
   "metadata": {},
   "source": [
    "**在程序中，我们如何引用这些数据呢？**\n",
    "* 非常通俗的处理办法：赋值给一个变量"
   ]
  },
  {
   "cell_type": "markdown",
   "id": "89f7c3fc-8300-469f-9925-529dede18216",
   "metadata": {
    "tags": []
   },
   "source": [
    "## 第二部分： 变量"
   ]
  },
  {
   "cell_type": "markdown",
   "id": "54e1283c-e109-4da0-98b1-fa1c14272b22",
   "metadata": {
    "tags": []
   },
   "source": [
    "## 1 变量的概念"
   ]
  },
  {
   "cell_type": "markdown",
   "id": "56612007-b240-4f05-b86f-d390eb0293dd",
   "metadata": {},
   "source": [
    "* \"量\" 实实在在的对象：如数据、抽象\n",
    "* \"变\" 可变性：增、删、查、改等\n",
    "* **变量定义二要素：**  **变量名**、**赋值**"
   ]
  },
  {
   "cell_type": "code",
   "execution_count": 3,
   "id": "e35520b7-e8fc-4b4c-b997-0f77b55c7a40",
   "metadata": {},
   "outputs": [
    {
     "data": {
      "text/plain": [
       "1"
      ]
     },
     "execution_count": 3,
     "metadata": {},
     "output_type": "execute_result"
    }
   ],
   "source": [
    "x = 1\n",
    "x"
   ]
  },
  {
   "cell_type": "markdown",
   "id": "b980e2cc-45fb-4a58-87c9-7457c1f6b53f",
   "metadata": {},
   "source": [
    "## 2.变量的命名"
   ]
  },
  {
   "cell_type": "markdown",
   "id": "86e0cd4c-0db5-4a45-b1ba-d3b0895b72ef",
   "metadata": {},
   "source": [
    "### 2.1 哪些可以用来做变量名？\n",
    "* 大写字母、小写字母、数字、下划线、汉字及其组合\n",
    "* 严格区分大小写"
   ]
  },
  {
   "cell_type": "code",
   "execution_count": 4,
   "id": "64b0a328-9954-490c-bd77-c99af2161042",
   "metadata": {},
   "outputs": [],
   "source": [
    "Python_is_第一名 = True\n",
    "pyhton_is_第一名 = False  #这两个变量是不一样的"
   ]
  },
  {
   "cell_type": "markdown",
   "id": "c093e7a4-e1ae-4923-94d4-799449838150",
   "metadata": {},
   "source": [
    "### 2.2 哪些情况不被允许？"
   ]
  },
  {
   "cell_type": "markdown",
   "id": "3eacbf94-1a4e-4025-b241-af53639732ac",
   "metadata": {},
   "source": [
    "* 首字符不允许为数字"
   ]
  },
  {
   "cell_type": "code",
   "execution_count": 6,
   "id": "819d35f3-d980-47d8-8aaf-acffa4d7cb61",
   "metadata": {},
   "outputs": [
    {
     "ename": "SyntaxError",
     "evalue": "invalid decimal literal (3983103716.py, line 1)",
     "output_type": "error",
     "traceback": [
      "\u001b[0;36m  Cell \u001b[0;32mIn[6], line 1\u001b[0;36m\u001b[0m\n\u001b[0;31m    1_fruit = 2\u001b[0m\n\u001b[0m     ^\u001b[0m\n\u001b[0;31mSyntaxError\u001b[0m\u001b[0;31m:\u001b[0m invalid decimal literal\n"
     ]
    }
   ],
   "source": [
    "1_fruit = 2"
   ]
  },
  {
   "cell_type": "markdown",
   "id": "1c65d975-ddf9-4a47-9c91-254bdeb8921b",
   "metadata": {},
   "source": [
    "* 变量名中间不能有空格"
   ]
  },
  {
   "cell_type": "code",
   "execution_count": 9,
   "id": "bc1ee9f1-6f02-4f75-93d1-14c263d24f16",
   "metadata": {},
   "outputs": [
    {
     "ename": "SyntaxError",
     "evalue": "invalid syntax (234440920.py, line 1)",
     "output_type": "error",
     "traceback": [
      "\u001b[0;36m  Cell \u001b[0;32mIn[9], line 1\u001b[0;36m\u001b[0m\n\u001b[0;31m    fruit 1 = 2\u001b[0m\n\u001b[0m          ^\u001b[0m\n\u001b[0;31mSyntaxError\u001b[0m\u001b[0;31m:\u001b[0m invalid syntax\n"
     ]
    }
   ],
   "source": [
    "fruit 1 = 2"
   ]
  },
  {
   "cell_type": "code",
   "execution_count": null,
   "id": "c53abf39-868e-4d0f-8bfa-8e5bbbe35ce7",
   "metadata": {},
   "outputs": [],
   "source": [
    "* 不能与33个Pyhton保留字相同"
   ]
  },
  {
   "cell_type": "code",
   "execution_count": 11,
   "id": "d160ad8b-283b-4feb-96b2-5f8f1a9b4f9f",
   "metadata": {},
   "outputs": [
    {
     "data": {
      "text/plain": [
       "('and',\n",
       " 'as',\n",
       " 'assert',\n",
       " 'break',\n",
       " 'class',\n",
       " 'continue',\n",
       " 'def',\n",
       " 'del',\n",
       " 'elif',\n",
       " 'else',\n",
       " 'except',\n",
       " 'False',\n",
       " 'finally',\n",
       " 'for',\n",
       " 'from',\n",
       " 'global',\n",
       " 'if',\n",
       " 'import',\n",
       " 'in',\n",
       " 'is',\n",
       " 'lambda',\n",
       " 'None',\n",
       " 'nonlocal',\n",
       " 'not',\n",
       " 'or',\n",
       " 'pass',\n",
       " 'raise',\n",
       " 'return',\n",
       " 'True',\n",
       " 'try',\n",
       " 'while',\n",
       " 'with',\n",
       " 'yield')"
      ]
     },
     "execution_count": 11,
     "metadata": {},
     "output_type": "execute_result"
    }
   ],
   "source": [
    "not_avaible = (\"and\",\"as\",\"assert\",\"break\",\"class\",\"continue\",\"def\",\"del\",\"elif\",\"else\",\n",
    "\"except\",\"False\",\"finally\",\"for\",\"from\",\"global\",\"if\",\"import\",\"in\",\"is\",\"lambda\",\"None\",\"nonlocal\",\"not\",\"or\",\n",
    "\"pass\",\"raise\",\"return\",\"True\",\"try\",\"while\",\"with\",\"yield\")\n",
    "not_avaible"
   ]
  },
  {
   "cell_type": "markdown",
   "id": "ea4108b6-5b11-4d16-9c10-b873b45b4334",
   "metadata": {
    "tags": []
   },
   "source": [
    "### 2.3 变量名定义技巧"
   ]
  },
  {
   "cell_type": "markdown",
   "id": "a3e33c66-b07b-4512-9b3f-2a097d24628c",
   "metadata": {},
   "source": [
    "* 变量名尽可能有实际意义，表征数据的某种特性"
   ]
  },
  {
   "cell_type": "code",
   "execution_count": 14,
   "id": "f2637eeb-8ded-4e9a-8ecc-c07b1ff27d1e",
   "metadata": {
    "tags": []
   },
   "outputs": [
    {
     "data": {
      "text/plain": [
       "[17, 18, 19]"
      ]
     },
     "execution_count": 14,
     "metadata": {},
     "output_type": "execute_result"
    }
   ],
   "source": [
    "a = [17,18,19]\n",
    "a"
   ]
  },
  {
   "cell_type": "markdown",
   "id": "f7dc8ede-0d16-4c3b-8a69-385003ea8477",
   "metadata": {},
   "source": [
    "* 下划线（推荐：变量和函数名）**变量名由多个单词组成：用_连接多个单词**"
   ]
  },
  {
   "cell_type": "code",
   "execution_count": 15,
   "id": "885ceec1-4a49-4c4e-bb1a-dc6c859fbda6",
   "metadata": {
    "tags": []
   },
   "outputs": [
    {
     "data": {
      "text/plain": [
       "[20, 21, 22]"
      ]
     },
     "execution_count": 15,
     "metadata": {},
     "output_type": "execute_result"
    }
   ],
   "source": [
    "age_of_students = [20,21,22]\n",
    "age_of_students"
   ]
  },
  {
   "cell_type": "markdown",
   "id": "eb45037d-0716-4cd5-bf51-5e0764f39ab3",
   "metadata": {},
   "source": [
    "* 驼峰体（推荐：类名）**变量名由多个单词组成：单词首字母大写**"
   ]
  },
  {
   "cell_type": "code",
   "execution_count": 16,
   "id": "61c97e70-61a8-44ff-9a20-e4a7b3a46338",
   "metadata": {
    "tags": []
   },
   "outputs": [
    {
     "data": {
      "text/plain": [
       "[2888, 2772, 4444]"
      ]
     },
     "execution_count": 16,
     "metadata": {},
     "output_type": "execute_result"
    }
   ],
   "source": [
    "AgeOfStudents = [2888,2772,4444]\n",
    "AgeOfStudents"
   ]
  },
  {
   "cell_type": "markdown",
   "id": "45213e39-5bdb-4097-84bd-51f6f4521c6c",
   "metadata": {},
   "source": [
    "* 特殊的变量:常量(不变的量，如π，e)  **变量名所有的字母均为大写**"
   ]
  },
  {
   "cell_type": "code",
   "execution_count": 17,
   "id": "ae0a058b-0652-4917-9d05-358e4254e8f0",
   "metadata": {
    "tags": []
   },
   "outputs": [
    {
     "data": {
      "text/plain": [
       "1000"
      ]
     },
     "execution_count": 17,
     "metadata": {},
     "output_type": "execute_result"
    }
   ],
   "source": [
    "MAX_ITERATION = 1000\n",
    "MAX_ITERATION"
   ]
  },
  {
   "cell_type": "markdown",
   "id": "6349741a-7f25-4325-b7d4-333a74365cc5",
   "metadata": {},
   "source": [
    "## 3.变量的赋值"
   ]
  },
  {
   "cell_type": "markdown",
   "id": "c293fff9-26d8-43f8-b704-79359f05225b",
   "metadata": {},
   "source": [
    "### 3.1 一般赋值"
   ]
  },
  {
   "cell_type": "markdown",
   "id": "cfd4cc60-137a-4660-a7b4-8991779fee53",
   "metadata": {},
   "source": [
    "* 通过等号自右向左进行赋值"
   ]
  },
  {
   "cell_type": "code",
   "execution_count": 19,
   "id": "fcf208e6-6c97-40c1-947d-f445abea3d65",
   "metadata": {
    "tags": []
   },
   "outputs": [
    {
     "data": {
      "text/plain": [
       "3"
      ]
     },
     "execution_count": 19,
     "metadata": {},
     "output_type": "execute_result"
    }
   ],
   "source": [
    "x = 1 + 2\n",
    "x"
   ]
  },
  {
   "cell_type": "markdown",
   "id": "465b91f7-639f-4fb7-9a92-d98558d67ff0",
   "metadata": {},
   "source": [
    "### 3.2 增量赋值"
   ]
  },
  {
   "cell_type": "code",
   "execution_count": 25,
   "id": "a8e3d168-58f4-46ac-80fc-c9ef6d374059",
   "metadata": {
    "tags": []
   },
   "outputs": [
    {
     "data": {
      "text/plain": [
       "20"
      ]
     },
     "execution_count": 25,
     "metadata": {},
     "output_type": "execute_result"
    }
   ],
   "source": [
    "x_1 = 10\n",
    "x_1 =  x_1 + 10 \n",
    "x_1"
   ]
  },
  {
   "cell_type": "markdown",
   "id": "367ff12c-85e6-4c7c-8421-e93b52e8f35a",
   "metadata": {},
   "source": [
    "### 3.3 打包赋值"
   ]
  },
  {
   "cell_type": "code",
   "execution_count": 27,
   "id": "30251dec-0ddc-4775-9ae1-0642b2d5977d",
   "metadata": {
    "tags": []
   },
   "outputs": [
    {
     "name": "stdout",
     "output_type": "stream",
     "text": [
      "1 2\n",
      "2 1\n"
     ]
    }
   ],
   "source": [
    "x,y = 1,2\n",
    "print(x,y)\n",
    "\n",
    "x,y = y,x\n",
    "print(x,y)"
   ]
  },
  {
   "cell_type": "markdown",
   "id": "b08ebc0c-a80b-4225-abc8-e0332f0b5e2e",
   "metadata": {},
   "source": [
    "## 第三部分.控制流程"
   ]
  },
  {
   "cell_type": "markdown",
   "id": "75ff075c-4549-4d6a-8080-b3b842651750",
   "metadata": {},
   "source": [
    "### 1.顺序流程"
   ]
  },
  {
   "cell_type": "markdown",
   "id": "36d9de02-7deb-45d3-99d9-ad2d6ad69c35",
   "metadata": {},
   "source": [
    "* 自上而下依次执行"
   ]
  },
  {
   "cell_type": "code",
   "execution_count": null,
   "id": "af29dad9-513a-4e95-94a2-19ecafa5ca39",
   "metadata": {},
   "outputs": [],
   "source": [
    "**【例子】** 实现1-5的整数求和"
   ]
  },
  {
   "cell_type": "code",
   "execution_count": 1,
   "id": "b201b5fc-e2d6-4f36-869e-b98cb2511197",
   "metadata": {
    "tags": []
   },
   "outputs": [
    {
     "data": {
      "text/plain": [
       "15"
      ]
     },
     "execution_count": 1,
     "metadata": {},
     "output_type": "execute_result"
    }
   ],
   "source": [
    "# res = 1+2+3+4+5\n",
    "res = 0  #赋值\n",
    "res +=1\n",
    "res +=2\n",
    "res +=3\n",
    "res +=4\n",
    "res +=5\n",
    "res    #显示结果"
   ]
  },
  {
   "cell_type": "markdown",
   "id": "e77ed1bb-0e05-4795-b610-d046d426a7e0",
   "metadata": {},
   "source": [
    "### 2.循环流程——遍历循环（for）"
   ]
  },
  {
   "cell_type": "markdown",
   "id": "b1642a51-8f97-4b37-a218-25306f741d2b",
   "metadata": {},
   "source": [
    "**主要形式：** \n",
    "* for元素in可迭代对象：\n",
    "        执行语句"
   ]
  },
  {
   "cell_type": "markdown",
   "id": "5e12b3f8-dde6-4c4b-a9d1-ff0f2c794d9b",
   "metadata": {
    "tags": []
   },
   "source": [
    "**执行过程：**\n",
    "* 从可迭代对象中，依次取出每一个元素，并进行相应的操作"
   ]
  },
  {
   "cell_type": "code",
   "execution_count": 3,
   "id": "5442bad4-eecd-4c7b-8ec7-ecd75e3dd84b",
   "metadata": {
    "tags": []
   },
   "outputs": [
    {
     "data": {
      "text/plain": [
       "15"
      ]
     },
     "execution_count": 3,
     "metadata": {},
     "output_type": "execute_result"
    }
   ],
   "source": [
    "res = 0\n",
    "for i in [1,2,3,4,5]:  #每次迭代，取出一个i\n",
    "    res += i    #对每次迭代取出的i进行相应的操作\n",
    "res             #遍历结束后，执行后续语句"
   ]
  },
  {
   "cell_type": "markdown",
   "id": "ec39da56-a678-4509-87bd-09bea12e8a85",
   "metadata": {},
   "source": [
    "### 3.循环流程——无限循环（while）"
   ]
  },
  {
   "cell_type": "markdown",
   "id": "f2a9b6c7-f7c9-4c84-9d16-326629da32a0",
   "metadata": {},
   "source": [
    "**主要形式：**\n",
    "* while 判断条件：\n",
    "*   条件为真，执行语句\n",
    "* 条件为假，while循环结束"
   ]
  },
  {
   "cell_type": "markdown",
   "id": "f85d7077-2fdc-48c2-aef3-620a770da196",
   "metadata": {},
   "source": [
    "**【小例子】实现1到5的整数求和**"
   ]
  },
  {
   "cell_type": "code",
   "execution_count": 4,
   "id": "27341a7c-b6e4-4cd3-928f-f1c98e6bb9b5",
   "metadata": {
    "tags": []
   },
   "outputs": [
    {
     "data": {
      "text/plain": [
       "15"
      ]
     },
     "execution_count": 4,
     "metadata": {},
     "output_type": "execute_result"
    }
   ],
   "source": [
    "i = 1\n",
    "res = 0\n",
    "while i <= 5: #若i不大于5，则循环继续\n",
    "    res += i\n",
    "    i += 1\n",
    "res          #若循环条件不成立，则循环停止，执行后续语句"
   ]
  },
  {
   "cell_type": "markdown",
   "id": "ff527d49-cc95-4519-97fe-b261b3a98d1f",
   "metadata": {},
   "source": [
    "### 4.分支流程(if)"
   ]
  },
  {
   "cell_type": "markdown",
   "id": "9d83a02f-7010-4f6e-b6f9-396957c7151a",
   "metadata": {},
   "source": [
    "**最简单的形式：**\n",
    "* if 判断条件：\n",
    "*        条件为真，执行语句\n",
    "* else :\n",
    "*        条件为假，执行语句"
   ]
  },
  {
   "cell_type": "code",
   "execution_count": 5,
   "id": "aee2f8fe-5f83-43ae-a6e7-f19d59c5dee1",
   "metadata": {
    "tags": []
   },
   "outputs": [
    {
     "name": "stdout",
     "output_type": "stream",
     "text": [
      "No\n"
     ]
    }
   ],
   "source": [
    "age = 18 #赋值\n",
    "if age > 22:\n",
    "    print(\"YES\")\n",
    "else:\n",
    "    print(\"No\")\n",
    "    "
   ]
  },
  {
   "cell_type": "markdown",
   "id": "b5d58a23-fac1-485e-89af-9e96d3152f00",
   "metadata": {
    "tags": []
   },
   "source": [
    "* 有了数据和变量，以及控制流程这些个中间过程后\n",
    "* 我们可以回过头来考虑下**程序的输入和输出**"
   ]
  },
  {
   "cell_type": "markdown",
   "id": "03f58fd7-f1f8-4013-87e1-9d6238d03ce6",
   "metadata": {},
   "source": [
    "## 第四部分.输入输出"
   ]
  },
  {
   "cell_type": "markdown",
   "id": "666bf0b8-b461-408d-8772-9e608ebd83e9",
   "metadata": {},
   "source": [
    "### 1.数据从哪里来？"
   ]
  },
  {
   "cell_type": "markdown",
   "id": "7f93fca1-2a04-4acc-9359-0f80aead0122",
   "metadata": {
    "tags": []
   },
   "source": [
    "**1.外部文件导入**\n",
    "* 从本地硬盘，网络端读入等\n",
    "* 该部分在第八章《文件、异常和模块》会继续讲"
   ]
  },
  {
   "cell_type": "markdown",
   "id": "c54edd61-2dcf-4b27-843f-2180951432c4",
   "metadata": {
    "tags": []
   },
   "source": [
    "**2.程序中定义**"
   ]
  },
  {
   "cell_type": "code",
   "execution_count": 11,
   "id": "b9474f61-67b1-41c1-a98e-6452f047cbe7",
   "metadata": {
    "tags": []
   },
   "outputs": [],
   "source": [
    "age = 18\n",
    "name = \"Haonan\""
   ]
  },
  {
   "cell_type": "markdown",
   "id": "08dcda50-ff8c-4bf5-a4d0-621af38a1bed",
   "metadata": {
    "tags": []
   },
   "source": [
    "**动态交互输入input**\n",
    "* 在程序运行的过程中进行输入"
   ]
  },
  {
   "cell_type": "code",
   "execution_count": null,
   "id": "13b1b239-4333-4195-bbda-1201bd4b953d",
   "metadata": {
    "tags": []
   },
   "outputs": [],
   "source": [
    "x = input(\"请输入一个数字：\")\n",
    "x"
   ]
  },
  {
   "cell_type": "code",
   "execution_count": null,
   "id": "233a960a-22a5-4bb6-8e2e-0e106ea1ca5d",
   "metadata": {
    "tags": []
   },
   "outputs": [],
   "source": [
    "y = input(\"请输入一个数字：\")\n",
    "y\n",
    "## 请注意这其实是一个字符串，拼接的时候 x+y是拼接不是加法 需要用eval()"
   ]
  },
  {
   "cell_type": "markdown",
   "id": "6b21be43-5d7e-4498-b2a5-50654b6c7102",
   "metadata": {},
   "source": [
    "### 2.数据到哪里去了？"
   ]
  },
  {
   "cell_type": "markdown",
   "id": "276af1db-5ecb-408a-b5bd-07fdafc0be07",
   "metadata": {},
   "source": [
    "**1.存储到本地硬盘或网络端**\n",
    "* 在第八章讲解"
   ]
  },
  {
   "cell_type": "markdown",
   "id": "758b72f7-e7f9-4dc1-a06d-edff15f5be5b",
   "metadata": {},
   "source": [
    "**2.打印输出print**\n",
    "* 直接打印数据"
   ]
  },
  {
   "cell_type": "code",
   "execution_count": 2,
   "id": "3c09bc83-85fb-4c8d-a7b3-b9559287e5ca",
   "metadata": {
    "tags": []
   },
   "outputs": [
    {
     "name": "stdout",
     "output_type": "stream",
     "text": [
      "1234\n"
     ]
    }
   ],
   "source": [
    "print(1234)"
   ]
  },
  {
   "cell_type": "markdown",
   "id": "874bb869-9d30-4f0d-a390-3c0a37d21d42",
   "metadata": {},
   "source": [
    "* 打印变量"
   ]
  },
  {
   "cell_type": "code",
   "execution_count": 3,
   "id": "9510c304-7f74-4b7a-a79a-c1d09fe4ee59",
   "metadata": {
    "tags": []
   },
   "outputs": [
    {
     "name": "stdout",
     "output_type": "stream",
     "text": [
      "1024\n"
     ]
    }
   ],
   "source": [
    "x = 1024\n",
    "print(x)"
   ]
  },
  {
   "cell_type": "markdown",
   "id": "7e1f790b-7459-42cf-8acc-f61016f3496e",
   "metadata": {},
   "source": [
    "* 简单的组合打印"
   ]
  },
  {
   "cell_type": "code",
   "execution_count": null,
   "id": "32c0afa0-ed79-4f0b-a171-59bca2517207",
   "metadata": {},
   "outputs": [],
   "source": []
  },
  {
   "cell_type": "markdown",
   "id": "9d0c0e0c-f875-4a4b-b892-83fcb4f8e3a7",
   "metadata": {},
   "source": [
    "* print默认换行"
   ]
  },
  {
   "cell_type": "code",
   "execution_count": 4,
   "id": "b8939690-9c76-4592-96cb-1a893ffe6ec3",
   "metadata": {
    "tags": []
   },
   "outputs": [
    {
     "name": "stdout",
     "output_type": "stream",
     "text": [
      "1\n",
      "2\n"
     ]
    }
   ],
   "source": [
    "print(1)\n",
    "print(2)"
   ]
  },
  {
   "cell_type": "markdown",
   "id": "c1e35fc5-6861-44a7-ba26-850b6b9d360f",
   "metadata": {
    "tags": []
   },
   "source": [
    "* 如果不想换行怎么办？\n",
    "* 换行控制 end ="
   ]
  },
  {
   "cell_type": "code",
   "execution_count": 10,
   "id": "cded7f36-1d0e-4e28-a47f-c34080322edb",
   "metadata": {
    "tags": []
   },
   "outputs": [
    {
     "name": "stdout",
     "output_type": "stream",
     "text": [
      "123222456\n"
     ]
    }
   ],
   "source": [
    "print(123222,end = \"\") #在本次地方后面作为结尾停\n",
    "print(456)"
   ]
  },
  {
   "cell_type": "markdown",
   "id": "932947f0-0f30-4b39-9ee6-9f36637f26c2",
   "metadata": {
    "tags": []
   },
   "source": [
    "* 有时候，我们需要一些复杂的输出：比如几个变量一起组合输出"
   ]
  },
  {
   "cell_type": "code",
   "execution_count": 11,
   "id": "7ee45abe-0642-4d22-9de9-f75bee243a96",
   "metadata": {
    "tags": []
   },
   "outputs": [
    {
     "name": "stdout",
     "output_type": "stream",
     "text": [
      "PI =  3.1415 E =  2.71\n"
     ]
    }
   ],
   "source": [
    "PI = 3.1415\n",
    "E = 2.71\n",
    "print(\"PI = \", PI,\"E = \", E)"
   ]
  },
  {
   "cell_type": "markdown",
   "id": "42d388ac-f4b0-4f1d-b7b5-0873c34b2343",
   "metadata": {},
   "source": [
    "**3.格式化输出方法format\n",
    "* **基本格式: \"字符{0}字符{1}字符\".format(v0,v1)**\n"
   ]
  },
  {
   "cell_type": "code",
   "execution_count": 15,
   "id": "4f4bbc8b-b6c5-4f30-a38f-881f06852ba1",
   "metadata": {
    "tags": []
   },
   "outputs": [
    {
     "name": "stdout",
     "output_type": "stream",
     "text": [
      "PI = 3.1415,E = 2.71\n"
     ]
    }
   ],
   "source": [
    "print(\"PI = {0},E = {1}\" .format(PI,E))"
   ]
  },
  {
   "cell_type": "code",
   "execution_count": 17,
   "id": "ab48926b-69ca-4a3a-86dc-537777eada09",
   "metadata": {
    "tags": []
   },
   "outputs": [
    {
     "name": "stdout",
     "output_type": "stream",
     "text": [
      "PI = 2.71,E = 3.1415\n"
     ]
    }
   ],
   "source": [
    "print(\"PI = {1},E = {0}\" .format(PI,E))"
   ]
  },
  {
   "cell_type": "markdown",
   "id": "806bcaac-c2bf-455e-b92c-6f3709e180bb",
   "metadata": {
    "tags": []
   },
   "source": [
    "* 再进一步 修饰性输出\n",
    "* **1.填充输出**"
   ]
  },
  {
   "cell_type": "code",
   "execution_count": 18,
   "id": "633096e8-7ef6-4e42-a37d-36737778f68f",
   "metadata": {
    "tags": []
   },
   "outputs": [
    {
     "name": "stdout",
     "output_type": "stream",
     "text": [
      "55555553.14155555555\n"
     ]
    }
   ],
   "source": [
    "#____3.1415926____ 进行填充\n",
    "print(\"{0:5^20}\".format(PI))"
   ]
  },
  {
   "cell_type": "code",
   "execution_count": 19,
   "id": "d27bc628-9ab8-46eb-82cd-76539d99ed12",
   "metadata": {
    "tags": []
   },
   "outputs": [
    {
     "name": "stdout",
     "output_type": "stream",
     "text": [
      "3.1415$$$$$$$$$$$$$$\n"
     ]
    }
   ],
   "source": [
    "#____3.1415926____ 进行填充\n",
    "print(\"{0:$<20}\".format(PI))"
   ]
  },
  {
   "cell_type": "code",
   "execution_count": 20,
   "id": "dd1f2ae8-1d76-4ed6-ab8a-dc543123c597",
   "metadata": {
    "tags": []
   },
   "outputs": [
    {
     "name": "stdout",
     "output_type": "stream",
     "text": [
      "@@@@@@@@@@@@@@3.1415\n"
     ]
    }
   ],
   "source": [
    "#____3.1415926____ 进行填充\n",
    "print(\"{0:@>20}\".format(PI))"
   ]
  },
  {
   "cell_type": "markdown",
   "id": "c989e04e-7713-45f0-ae1f-798e8cafdb97",
   "metadata": {},
   "source": [
    "**2.数字千分位分隔符**\n",
    "* 显示1,000,000"
   ]
  },
  {
   "cell_type": "code",
   "execution_count": 22,
   "id": "2ba3d11b-7faf-4824-9b95-6253908260e9",
   "metadata": {
    "tags": []
   },
   "outputs": [
    {
     "name": "stdout",
     "output_type": "stream",
     "text": [
      "%%%%%%%%%%%%%1000000\n"
     ]
    }
   ],
   "source": [
    "print(\"{0:%>20}\".format(1000000))"
   ]
  },
  {
   "cell_type": "markdown",
   "id": "fe38fb08-01c1-4402-a555-ee37e61c8f94",
   "metadata": {},
   "source": [
    "**3.浮点数简化输出**\n",
    "* 留2位小数"
   ]
  },
  {
   "cell_type": "code",
   "execution_count": 23,
   "id": "9a0ae31a-1261-4c6d-b8ec-010d62386fe2",
   "metadata": {
    "tags": []
   },
   "outputs": [
    {
     "name": "stdout",
     "output_type": "stream",
     "text": [
      "3.14\n"
     ]
    }
   ],
   "source": [
    "print(\"{0:.2f}\".format(PI))"
   ]
  },
  {
   "cell_type": "markdown",
   "id": "d4af5c1a-ba5e-4e5e-b6e5-60ee881a9a09",
   "metadata": {},
   "source": [
    "* 按百分数输出"
   ]
  },
  {
   "cell_type": "code",
   "execution_count": 26,
   "id": "8b9e3f6d-80a9-45a2-a049-63bc0e04ebf7",
   "metadata": {
    "tags": []
   },
   "outputs": [
    {
     "name": "stdout",
     "output_type": "stream",
     "text": [
      "81.2%\n"
     ]
    }
   ],
   "source": [
    "print(\"{0:.1%}\".format(0.812345))"
   ]
  },
  {
   "cell_type": "markdown",
   "id": "153a5761-8f42-413f-9908-d83f8d01c192",
   "metadata": {
    "tags": []
   },
   "source": [
    "* 科学计数法输出"
   ]
  },
  {
   "cell_type": "code",
   "execution_count": 27,
   "id": "64d5c49a-825b-44bc-b281-8f7956be8ae3",
   "metadata": {
    "tags": []
   },
   "outputs": [
    {
     "name": "stdout",
     "output_type": "stream",
     "text": [
      "9.88e-01\n"
     ]
    }
   ],
   "source": [
    "print(\"{0:.2e}\".format(0.9876))"
   ]
  },
  {
   "cell_type": "markdown",
   "id": "221e8339-162b-4ff4-9b58-ddf104a6d392",
   "metadata": {},
   "source": [
    "**4.整数的进制转换输出**\n",
    "* 十进制整数转二进制、unicode码、十进制、八进制、十六进制输出"
   ]
  },
  {
   "cell_type": "code",
   "execution_count": 29,
   "id": "02411ad1-4e44-476a-af6d-363037ae201b",
   "metadata": {
    "tags": []
   },
   "outputs": [
    {
     "data": {
      "text/plain": [
       "'二进制111000010,Unicode码ǂ,十进制450,八进制702,十六进制1c2'"
      ]
     },
     "execution_count": 29,
     "metadata": {},
     "output_type": "execute_result"
    }
   ],
   "source": [
    "\"二进制{0:b},Unicode码{0:c},十进制{0:d},八进制{0:o},十六进制{0:x}\".format(450)"
   ]
  },
  {
   "cell_type": "markdown",
   "id": "1bc57d4f-4c9e-487d-9f2e-595d9dbc9851",
   "metadata": {},
   "source": [
    "## 第五部分.程序格式"
   ]
  },
  {
   "cell_type": "markdown",
   "id": "4a502ae8-9b4c-4a24-93a5-c9f5510abaa4",
   "metadata": {},
   "source": [
    "### 1.行最大长度"
   ]
  },
  {
   "cell_type": "markdown",
   "id": "7bd314a0-8034-4072-bef5-dde167166b4c",
   "metadata": {},
   "source": [
    "所有行限制为79"
   ]
  },
  {
   "cell_type": "markdown",
   "id": "75966e6a-405a-467e-a992-1f77f7e41b26",
   "metadata": {},
   "source": [
    "### 2.缩进\n",
    "* 用缩进来**表示语句间的逻辑**\n",
    "* 在for while if def class等：**之后下一行开始进行缩进，表明代码后续代码与前句之间的从属关系**\n",
    "* 缩进量：4字符"
   ]
  },
  {
   "cell_type": "code",
   "execution_count": 30,
   "id": "655054ea-e508-4b65-b3fb-8cd026ad0171",
   "metadata": {
    "tags": []
   },
   "outputs": [
    {
     "name": "stdout",
     "output_type": "stream",
     "text": [
      "1\n",
      "2\n",
      "3\n",
      "打印结束\n"
     ]
    }
   ],
   "source": [
    "for i in [1,2,3]:\n",
    "    print(i)\n",
    "print(\"打印结束\")"
   ]
  },
  {
   "cell_type": "markdown",
   "id": "29c80ce3-f5e4-4990-a7f1-8ad0e7a34809",
   "metadata": {},
   "source": [
    "### 3.使用空格\n",
    "* 二元运算符两边加一个空格"
   ]
  },
  {
   "cell_type": "code",
   "execution_count": 31,
   "id": "970abc48-1131-4ed7-bb5f-56eb3bf5692b",
   "metadata": {
    "tags": []
   },
   "outputs": [
    {
     "ename": "SyntaxError",
     "evalue": "invalid syntax (1441443399.py, line 2)",
     "output_type": "error",
     "traceback": [
      "\u001b[0;36m  Cell \u001b[0;32mIn[31], line 2\u001b[0;36m\u001b[0m\n\u001b[0;31m    x + = 4 #增量\u001b[0m\n\u001b[0m        ^\u001b[0m\n\u001b[0;31mSyntaxError\u001b[0m\u001b[0;31m:\u001b[0m invalid syntax\n"
     ]
    }
   ],
   "source": [
    "x = 2   #赋值\n",
    "x + = 4 #增量\n",
    "6 > 2   #比较"
   ]
  },
  {
   "cell_type": "markdown",
   "id": "833bfd3f-c0a7-47e1-ac18-dd1d69948156",
   "metadata": {},
   "source": [
    "* 使用不同优先级的运算符，考虑在最低优先级的运算符周围添加空格"
   ]
  },
  {
   "cell_type": "code",
   "execution_count": null,
   "id": "958f659d-8f3a-4f00-a88d-7707fa5d70be",
   "metadata": {},
   "outputs": [],
   "source": [
    "x = x*2 - 1\n",
    "z = x*x + y*y\n",
    "c = (a+b) * (a-b)"
   ]
  },
  {
   "cell_type": "markdown",
   "id": "1c636228-b1a9-4374-86d4-9517fce33558",
   "metadata": {},
   "source": [
    "* 在逗号后使用空格"
   ]
  },
  {
   "cell_type": "code",
   "execution_count": null,
   "id": "1169627a-7484-47aa-83b2-0369163ff3a7",
   "metadata": {},
   "outputs": [],
   "source": [
    "x,y = 1, 2\n",
    "s = [1,2,3]"
   ]
  },
  {
   "cell_type": "markdown",
   "id": "18426dff-b2bc-4e64-98f1-e8cf4dae1d68",
   "metadata": {},
   "source": [
    "### 4. 避免使用空格"
   ]
  },
  {
   "cell_type": "code",
   "execution_count": 32,
   "id": "f37e4cc6-34cf-4f53-a3e9-1f8024f238f0",
   "metadata": {
    "tags": []
   },
   "outputs": [],
   "source": [
    "def fun(n=1,m=2):\n",
    "    print(n,m)"
   ]
  },
  {
   "cell_type": "markdown",
   "id": "19dd79eb-b099-43a6-ba63-cfe3ae8c43d6",
   "metadata": {},
   "source": [
    "### 5.注释"
   ]
  },
  {
   "cell_type": "markdown",
   "id": "15b7edbe-64b1-4e68-add3-d9569c9870c1",
   "metadata": {},
   "source": [
    "* 单行注释\n",
    "* 格式: #注释内容"
   ]
  },
  {
   "cell_type": "code",
   "execution_count": null,
   "id": "437f5f36-db4e-400f-96e5-ffe070b1a1d6",
   "metadata": {},
   "outputs": [],
   "source": [
    "a = 1 # 单行注释"
   ]
  },
  {
   "cell_type": "markdown",
   "id": "83f29e42-671c-449b-a24a-59bfd7e8567a",
   "metadata": {
    "tags": []
   },
   "source": [
    "* 多行注释\n",
    "* 格式：”“”注释内容，可分行“”“"
   ]
  },
  {
   "cell_type": "code",
   "execution_count": 39,
   "id": "95b2cc0e-7669-4ba6-b334-e26fc16fbfa4",
   "metadata": {
    "tags": []
   },
   "outputs": [
    {
     "name": "stdout",
     "output_type": "stream",
     "text": [
      "hello\n"
     ]
    },
    {
     "data": {
      "text/plain": [
       "'\\nmamamam\\namamamaa\\nsdadsa\\nsdsadas\\n\\n'"
      ]
     },
     "execution_count": 39,
     "metadata": {},
     "output_type": "execute_result"
    }
   ],
   "source": [
    "print(\"hello\")\n",
    "\n",
    "\"\"\"\n",
    "mamamam\n",
    "amamamaa\n",
    "sdadsa\n",
    "sdsadas\n",
    "\n",
    "\"\"\""
   ]
  }
 ],
 "metadata": {
  "kernelspec": {
   "display_name": "Python 3 (ipykernel)",
   "language": "python",
   "name": "python3"
  },
  "language_info": {
   "codemirror_mode": {
    "name": "ipython",
    "version": 3
   },
   "file_extension": ".py",
   "mimetype": "text/x-python",
   "name": "python",
   "nbconvert_exporter": "python",
   "pygments_lexer": "ipython3",
   "version": "3.11.4"
  },
  "toc-autonumbering": false,
  "toc-showmarkdowntxt": false
 },
 "nbformat": 4,
 "nbformat_minor": 5
}
